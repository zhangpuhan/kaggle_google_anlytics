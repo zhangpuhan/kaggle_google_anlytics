{
 "cells": [
  {
   "cell_type": "markdown",
   "metadata": {
    "_uuid": "e8e112aa5b5db7303e39d3a9cf1702848962c6c2"
   },
   "source": [
    "### Introduction\n",
    "\n",
    "Not much here except very simple features that build on the fact we know the future...\n",
    "\n",
    "In all time series competition where you're allowed to use future events the best features are time to next session for a given visitor.\n",
    "\n",
    "This competition is no exception.\n",
    "\n",
    "I left part of the features I already tested and don't seem to generalize... but what can we really trust here ?\n"
   ]
  },
  {
   "cell_type": "code",
   "execution_count": 1,
   "metadata": {
    "_cell_guid": "b1076dfc-b9ad-4769-8c92-a6c4dae69d19",
    "_uuid": "8f2839f25d086af736a60e9eeb907d3b93b6e0e5"
   },
   "outputs": [
    {
     "name": "stdout",
     "output_type": "stream",
     "text": [
      "['extracted_fields_test', 'extracted_fields_test.gz', 'extracted_fields_test_v2.csv', 'extracted_fields_train', 'extracted_fields_train.gz', 'extracted_fields_train_v2.csv', 'sample_submission.csv', 'sample_submission.csv.zip', 'test.csv', 'test.csv.zip', 'test_user.csv', 'test_v2.csv.zip', 'train.csv', 'train.csv.zip', 'train.libsvm', 'train_user.csv', 'train_v2.csv.zip']\n"
     ]
    }
   ],
   "source": [
    "import os\n",
    "print(os.listdir(\"../input\"))"
   ]
  },
  {
   "cell_type": "code",
   "execution_count": 2,
   "metadata": {
    "_cell_guid": "79c7e3d0-c299-4dcb-8224-4455121ee9b0",
    "_uuid": "d629ff2d2480ee46fbb7e2d37f6b5fab8052498a"
   },
   "outputs": [],
   "source": [
    "import pandas as pd\n",
    "import numpy as np\n",
    "import matplotlib.pyplot as plt\n",
    "import seaborn as sns\n",
    "from sklearn.metrics import mean_squared_error\n",
    "import gc\n",
    "import time\n",
    "from pandas.core.common import SettingWithCopyWarning\n",
    "import warnings\n",
    "import lightgbm as lgb\n",
    "from sklearn.model_selection import GroupKFold\n",
    "\n",
    "# I don't like SettingWithCopyWarnings ...\n",
    "warnings.simplefilter('error', SettingWithCopyWarning)\n",
    "gc.enable()\n",
    "%matplotlib inline"
   ]
  },
  {
   "cell_type": "markdown",
   "metadata": {
    "_uuid": "e8c6c0d5d8cf00737b8ae536b0d528b32fac9166"
   },
   "source": [
    "### Get the extracted data"
   ]
  },
  {
   "cell_type": "code",
   "execution_count": 3,
   "metadata": {
    "_uuid": "6fe04db087c3d25b8b4a5873ee6f104e427525f0"
   },
   "outputs": [
    {
     "data": {
      "text/plain": [
       "((1708337, 31), (401589, 31))"
      ]
     },
     "execution_count": 3,
     "metadata": {},
     "output_type": "execute_result"
    }
   ],
   "source": [
    "train = pd.read_csv('../input/extracted_fields_train_v2.csv', \n",
    "                    dtype={'date': str, 'fullVisitorId': str, 'sessionId':str})\n",
    "test = pd.read_csv('../input/extracted_fields_test_v2.csv', \n",
    "                   dtype={'date': str, 'fullVisitorId': str, 'sessionId':str})\n",
    "train.shape, test.shape"
   ]
  },
  {
   "cell_type": "markdown",
   "metadata": {
    "_uuid": "b64b336b70ccb5478d33f9e042eeeabee549c919"
   },
   "source": [
    "### Define folding strategy"
   ]
  },
  {
   "cell_type": "code",
   "execution_count": 4,
   "metadata": {
    "_uuid": "cd54722ebf9ae8b68eddb2116c0559625e7d6a48"
   },
   "outputs": [],
   "source": [
    "def get_folds(df=None, n_splits=5):\n",
    "    \"\"\"Returns dataframe indices corresponding to Visitors Group KFold\"\"\"\n",
    "    # Get sorted unique visitors\n",
    "    unique_vis = np.array(sorted(df['fullVisitorId'].unique()))\n",
    "\n",
    "    # Get folds\n",
    "    folds = GroupKFold(n_splits=n_splits)\n",
    "    fold_ids = []\n",
    "    ids = np.arange(df.shape[0])\n",
    "    for trn_vis, val_vis in folds.split(X=unique_vis, y=unique_vis, groups=unique_vis):\n",
    "        fold_ids.append(\n",
    "            [\n",
    "                ids[df['fullVisitorId'].isin(unique_vis[trn_vis])],\n",
    "                ids[df['fullVisitorId'].isin(unique_vis[val_vis])]\n",
    "            ]\n",
    "        )\n",
    "\n",
    "    return fold_ids"
   ]
  },
  {
   "cell_type": "markdown",
   "metadata": {
    "_uuid": "18b2fb7729077132ef249956a1bbb072baee17db"
   },
   "source": [
    "### Get session target"
   ]
  },
  {
   "cell_type": "code",
   "execution_count": 5,
   "metadata": {
    "_uuid": "c539c76d9a5305066ea084ca32016132da41b35b"
   },
   "outputs": [],
   "source": [
    "y_reg = train['totals.transactionRevenue'].fillna(0)\n",
    "\n",
    "# if 'totals.transactionRevenue' in test.columns:\n",
    "#     del test['totals.transactionRevenue']"
   ]
  },
  {
   "cell_type": "markdown",
   "metadata": {
    "_uuid": "1d9af86b1cf94e192d704bfd419eed4490e1debe"
   },
   "source": [
    "### Add date features\n",
    "\n",
    "Only add the one I think can ganeralize"
   ]
  },
  {
   "cell_type": "code",
   "execution_count": 6,
   "metadata": {
    "_uuid": "fbf93fda18940aa29105fa2d66f3514311d4fc68"
   },
   "outputs": [
    {
     "data": {
      "text/plain": [
       "Index(['channelGrouping', 'customDimensions', 'date', 'fullVisitorId', 'hits',\n",
       "       'visitId', 'visitNumber', 'visitStartTime', 'device.browser',\n",
       "       'device.deviceCategory', 'device.isMobile', 'device.operatingSystem',\n",
       "       'geoNetwork.city', 'geoNetwork.continent', 'geoNetwork.country',\n",
       "       'geoNetwork.metro', 'geoNetwork.networkDomain', 'geoNetwork.region',\n",
       "       'geoNetwork.subContinent', 'totals.bounces', 'totals.hits',\n",
       "       'totals.newVisits', 'totals.pageviews', 'totals.transactionRevenue',\n",
       "       'trafficSource.adContent', 'trafficSource.campaign',\n",
       "       'trafficSource.isTrueDirect', 'trafficSource.keyword',\n",
       "       'trafficSource.medium', 'trafficSource.referralPath',\n",
       "       'trafficSource.source'],\n",
       "      dtype='object')"
      ]
     },
     "execution_count": 6,
     "metadata": {},
     "output_type": "execute_result"
    }
   ],
   "source": [
    "train.columns"
   ]
  },
  {
   "cell_type": "code",
   "execution_count": 7,
   "metadata": {
    "_uuid": "b04391e12fdca0199ff22ab7febd9b0b53d6cbb3"
   },
   "outputs": [],
   "source": [
    "\n",
    "for df in [train, test]:\n",
    "    df['date'] = pd.to_datetime(df['visitStartTime'], unit='s')\n",
    "    df['sess_date_dow'] = df['date'].dt.dayofweek\n",
    "    df['sess_date_hours'] = df['date'].dt.hour\n",
    "    df['sess_date_dom'] = df['date'].dt.day\n",
    "    df.sort_values(['fullVisitorId', 'date'], ascending=True, inplace=True)\n",
    "    df['next_session_1'] = (\n",
    "        df['date'] - df[['fullVisitorId', 'date']].groupby('fullVisitorId')['date'].shift(1)\n",
    "    ).astype(np.int64) // 1e9 // 60 // 60\n",
    "    df['next_session_2'] = (\n",
    "        df['date'] - df[['fullVisitorId', 'date']].groupby('fullVisitorId')['date'].shift(-1)\n",
    "    ).astype(np.int64) // 1e9 // 60 // 60\n"
   ]
  },
  {
   "cell_type": "code",
   "execution_count": 8,
   "metadata": {
    "_uuid": "dcc7f28d6e454516de650d4460b82b3151fc8394"
   },
   "outputs": [
    {
     "name": "stdout",
     "output_type": "stream",
     "text": [
      "process device ...\n",
      "process device ...\n",
      "custom..\n",
      "custom..\n"
     ]
    }
   ],
   "source": [
    "# https://www.kaggle.com/prashantkikani/teach-lightgbm-to-sum-predictions-fe\n",
    "def browser_mapping(x):\n",
    "    browsers = ['chrome','safari','firefox','internet explorer','edge','opera','coc coc','maxthon','iron']\n",
    "    if x in browsers:\n",
    "        return x.lower()\n",
    "    elif  ('android' in x) or ('samsung' in x) or ('mini' in x) or ('iphone' in x) or ('in-app' in x) or ('playstation' in x):\n",
    "        return 'mobile browser'\n",
    "    elif  ('mozilla' in x) or ('chrome' in x) or ('blackberry' in x) or ('nokia' in x) or ('browser' in x) or ('amazon' in x):\n",
    "        return 'mobile browser'\n",
    "    elif  ('lunascape' in x) or ('netscape' in x) or ('blackberry' in x) or ('konqueror' in x) or ('puffin' in x) or ('amazon' in x):\n",
    "        return 'mobile browser'\n",
    "    elif '(not set)' in x:\n",
    "        return x\n",
    "    else:\n",
    "        return 'others'\n",
    "    \n",
    "    \n",
    "def adcontents_mapping(x):\n",
    "    if  ('google' in x):\n",
    "        return 'google'\n",
    "    elif  ('placement' in x) | ('placememnt' in x):\n",
    "        return 'placement'\n",
    "    elif '(not set)' in x or 'nan' in x:\n",
    "        return x\n",
    "    elif 'ad' in x:\n",
    "        return 'ad'\n",
    "    else:\n",
    "        return 'others'\n",
    "    \n",
    "def source_mapping(x):\n",
    "    if  ('google' in x):\n",
    "        return 'google'\n",
    "    elif  ('youtube' in x):\n",
    "        return 'youtube'\n",
    "    elif '(not set)' in x or 'nan' in x:\n",
    "        return x\n",
    "    elif 'yahoo' in x:\n",
    "        return 'yahoo'\n",
    "    elif 'facebook' in x:\n",
    "        return 'facebook'\n",
    "    elif 'reddit' in x:\n",
    "        return 'reddit'\n",
    "    elif 'bing' in x:\n",
    "        return 'bing'\n",
    "    elif 'quora' in x:\n",
    "        return 'quora'\n",
    "    elif 'outlook' in x:\n",
    "        return 'outlook'\n",
    "    elif 'linkedin' in x:\n",
    "        return 'linkedin'\n",
    "    elif 'pinterest' in x:\n",
    "        return 'pinterest'\n",
    "    elif 'ask' in x:\n",
    "        return 'ask'\n",
    "    elif 'siliconvalley' in x:\n",
    "        return 'siliconvalley'\n",
    "    elif 'lunametrics' in x:\n",
    "        return 'lunametrics'\n",
    "    elif 'amazon' in x:\n",
    "        return 'amazon'\n",
    "    elif 'mysearch' in x:\n",
    "        return 'mysearch'\n",
    "    elif 'qiita' in x:\n",
    "        return 'qiita'\n",
    "    elif 'messenger' in x:\n",
    "        return 'messenger'\n",
    "    elif 'twitter' in x:\n",
    "        return 'twitter'\n",
    "    elif 't.co' in x:\n",
    "        return 't.co'\n",
    "    elif 'vk.com' in x:\n",
    "        return 'vk.com'\n",
    "    elif 'search' in x:\n",
    "        return 'search'\n",
    "    elif 'edu' in x:\n",
    "        return 'edu'\n",
    "    elif 'mail' in x:\n",
    "        return 'mail'\n",
    "    elif 'ad' in x:\n",
    "        return 'ad'\n",
    "    elif 'golang' in x:\n",
    "        return 'golang'\n",
    "    elif 'direct' in x:\n",
    "        return 'direct'\n",
    "    elif 'dealspotr' in x:\n",
    "        return 'dealspotr'\n",
    "    elif 'sashihara' in x:\n",
    "        return 'sashihara'\n",
    "    elif 'phandroid' in x:\n",
    "        return 'phandroid'\n",
    "    elif 'baidu' in x:\n",
    "        return 'baidu'\n",
    "    elif 'mdn' in x:\n",
    "        return 'mdn'\n",
    "    elif 'duckduckgo' in x:\n",
    "        return 'duckduckgo'\n",
    "    elif 'seroundtable' in x:\n",
    "        return 'seroundtable'\n",
    "    elif 'metrics' in x:\n",
    "        return 'metrics'\n",
    "    elif 'sogou' in x:\n",
    "        return 'sogou'\n",
    "    elif 'businessinsider' in x:\n",
    "        return 'businessinsider'\n",
    "    elif 'github' in x:\n",
    "        return 'github'\n",
    "    elif 'gophergala' in x:\n",
    "        return 'gophergala'\n",
    "    elif 'yandex' in x:\n",
    "        return 'yandex'\n",
    "    elif 'msn' in x:\n",
    "        return 'msn'\n",
    "    elif 'dfa' in x:\n",
    "        return 'dfa'\n",
    "    elif '(not set)' in x:\n",
    "        return '(not set)'\n",
    "    elif 'feedly' in x:\n",
    "        return 'feedly'\n",
    "    elif 'arstechnica' in x:\n",
    "        return 'arstechnica'\n",
    "    elif 'squishable' in x:\n",
    "        return 'squishable'\n",
    "    elif 'flipboard' in x:\n",
    "        return 'flipboard'\n",
    "    elif 't-online.de' in x:\n",
    "        return 't-online.de'\n",
    "    elif 'sm.cn' in x:\n",
    "        return 'sm.cn'\n",
    "    elif 'wow' in x:\n",
    "        return 'wow'\n",
    "    elif 'baidu' in x:\n",
    "        return 'baidu'\n",
    "    elif 'partners' in x:\n",
    "        return 'partners'\n",
    "    else:\n",
    "        return 'others'\n",
    "\n",
    "train['device.browser'] = train['device.browser'].map(lambda x:browser_mapping(str(x).lower())).astype('str')\n",
    "train['trafficSource.adContent'] = train['trafficSource.adContent'].map(lambda x:adcontents_mapping(str(x).lower())).astype('str')\n",
    "train['trafficSource.source'] = train['trafficSource.source'].map(lambda x:source_mapping(str(x).lower())).astype('str')\n",
    "\n",
    "test['device.browser'] = test['device.browser'].map(lambda x:browser_mapping(str(x).lower())).astype('str')\n",
    "test['trafficSource.adContent'] = test['trafficSource.adContent'].map(lambda x:adcontents_mapping(str(x).lower())).astype('str')\n",
    "test['trafficSource.source'] = test['trafficSource.source'].map(lambda x:source_mapping(str(x).lower())).astype('str')\n",
    "\n",
    "def process_device(data_df):\n",
    "    print(\"process device ...\")\n",
    "    data_df['source.country'] = data_df['trafficSource.source'] + '_' + data_df['geoNetwork.country']\n",
    "    data_df['campaign.medium'] = data_df['trafficSource.campaign'] + '_' + data_df['trafficSource.medium']\n",
    "    data_df['browser.category'] = data_df['device.browser'] + '_' + data_df['device.deviceCategory']\n",
    "    data_df['browser.os'] = data_df['device.browser'] + '_' + data_df['device.operatingSystem']\n",
    "    return data_df\n",
    "\n",
    "train = process_device(train)\n",
    "test = process_device(test)\n",
    "\n",
    "def custom(data):\n",
    "    print('custom..')\n",
    "    data['device_deviceCategory_channelGrouping'] = data['device.deviceCategory'] + \"_\" + data['channelGrouping']\n",
    "    data['channelGrouping_browser'] = data['device.browser'] + \"_\" + data['channelGrouping']\n",
    "    data['channelGrouping_OS'] = data['device.operatingSystem'] + \"_\" + data['channelGrouping']\n",
    "    \n",
    "    for i in ['geoNetwork.city', 'geoNetwork.continent', 'geoNetwork.country','geoNetwork.metro', 'geoNetwork.networkDomain', 'geoNetwork.region','geoNetwork.subContinent']:\n",
    "        for j in ['device.browser','device.deviceCategory', 'device.operatingSystem', 'trafficSource.source']:\n",
    "            data[i + \"_\" + j] = data[i] + \"_\" + data[j]\n",
    "    \n",
    "    data['content.source'] = data['trafficSource.adContent'] + \"_\" + data['source.country']\n",
    "    data['medium.source'] = data['trafficSource.medium'] + \"_\" + data['source.country']\n",
    "    return data\n",
    "\n",
    "train = custom(train)\n",
    "test = custom(test)"
   ]
  },
  {
   "cell_type": "markdown",
   "metadata": {
    "_uuid": "59e7c9bcf14d3f430489d15d22757b91dd9d5ad1"
   },
   "source": [
    "### Create features list"
   ]
  },
  {
   "cell_type": "code",
   "execution_count": 9,
   "metadata": {
    "_uuid": "e09ff3124721ad70eab65b924093b5fd0c12f9c6"
   },
   "outputs": [],
   "source": [
    "excluded_features = [\n",
    "    'date', 'fullVisitorId', 'sessionId', 'totals.transactionRevenue', \n",
    "    'visitId', 'visitStartTime', 'vis_date', 'nb_sessions', 'max_visits'\n",
    "]\n",
    "\n",
    "categorical_features = [\n",
    "    _f for _f in train.columns\n",
    "    if (_f not in excluded_features) & (train[_f].dtype == 'object')\n",
    "]"
   ]
  },
  {
   "cell_type": "code",
   "execution_count": 10,
   "metadata": {},
   "outputs": [
    {
     "data": {
      "text/html": [
       "<div>\n",
       "<style scoped>\n",
       "    .dataframe tbody tr th:only-of-type {\n",
       "        vertical-align: middle;\n",
       "    }\n",
       "\n",
       "    .dataframe tbody tr th {\n",
       "        vertical-align: top;\n",
       "    }\n",
       "\n",
       "    .dataframe thead th {\n",
       "        text-align: right;\n",
       "    }\n",
       "</style>\n",
       "<table border=\"1\" class=\"dataframe\">\n",
       "  <thead>\n",
       "    <tr style=\"text-align: right;\">\n",
       "      <th></th>\n",
       "      <th>channelGrouping</th>\n",
       "      <th>customDimensions</th>\n",
       "      <th>date</th>\n",
       "      <th>fullVisitorId</th>\n",
       "      <th>hits</th>\n",
       "      <th>visitId</th>\n",
       "      <th>visitNumber</th>\n",
       "      <th>visitStartTime</th>\n",
       "      <th>device.browser</th>\n",
       "      <th>device.deviceCategory</th>\n",
       "      <th>...</th>\n",
       "      <th>geoNetwork.region_device.browser</th>\n",
       "      <th>geoNetwork.region_device.deviceCategory</th>\n",
       "      <th>geoNetwork.region_device.operatingSystem</th>\n",
       "      <th>geoNetwork.region_trafficSource.source</th>\n",
       "      <th>geoNetwork.subContinent_device.browser</th>\n",
       "      <th>geoNetwork.subContinent_device.deviceCategory</th>\n",
       "      <th>geoNetwork.subContinent_device.operatingSystem</th>\n",
       "      <th>geoNetwork.subContinent_trafficSource.source</th>\n",
       "      <th>content.source</th>\n",
       "      <th>medium.source</th>\n",
       "    </tr>\n",
       "  </thead>\n",
       "  <tbody>\n",
       "    <tr>\n",
       "      <th>683687</th>\n",
       "      <td>Organic Search</td>\n",
       "      <td>[{'index': '4', 'value': 'North America'}]</td>\n",
       "      <td>2017-11-28 23:33:21</td>\n",
       "      <td>0000000259678714014</td>\n",
       "      <td>[{'hitNumber': '1', 'time': '0', 'hour': '15',...</td>\n",
       "      <td>1.511912e+09</td>\n",
       "      <td>1.0</td>\n",
       "      <td>1.511912e+09</td>\n",
       "      <td>chrome</td>\n",
       "      <td>desktop</td>\n",
       "      <td>...</td>\n",
       "      <td>California_chrome</td>\n",
       "      <td>California_desktop</td>\n",
       "      <td>California_Macintosh</td>\n",
       "      <td>California_google</td>\n",
       "      <td>Northern America_chrome</td>\n",
       "      <td>Northern America_desktop</td>\n",
       "      <td>Northern America_Macintosh</td>\n",
       "      <td>Northern America_google</td>\n",
       "      <td>nan_google_United States</td>\n",
       "      <td>organic_google_United States</td>\n",
       "    </tr>\n",
       "    <tr>\n",
       "      <th>680923</th>\n",
       "      <td>Organic Search</td>\n",
       "      <td>[{'index': '4', 'value': 'North America'}]</td>\n",
       "      <td>2017-11-29 00:19:40</td>\n",
       "      <td>0000000259678714014</td>\n",
       "      <td>[{'hitNumber': '1', 'time': '0', 'hour': '16',...</td>\n",
       "      <td>1.511915e+09</td>\n",
       "      <td>2.0</td>\n",
       "      <td>1.511915e+09</td>\n",
       "      <td>chrome</td>\n",
       "      <td>desktop</td>\n",
       "      <td>...</td>\n",
       "      <td>California_chrome</td>\n",
       "      <td>California_desktop</td>\n",
       "      <td>California_Macintosh</td>\n",
       "      <td>California_google</td>\n",
       "      <td>Northern America_chrome</td>\n",
       "      <td>Northern America_desktop</td>\n",
       "      <td>Northern America_Macintosh</td>\n",
       "      <td>Northern America_google</td>\n",
       "      <td>nan_google_United States</td>\n",
       "      <td>organic_google_United States</td>\n",
       "    </tr>\n",
       "    <tr>\n",
       "      <th>379656</th>\n",
       "      <td>Organic Search</td>\n",
       "      <td>[]</td>\n",
       "      <td>2016-10-21 05:57:46</td>\n",
       "      <td>0000010278554503158</td>\n",
       "      <td>[{'hitNumber': '1', 'time': '0', 'hour': '22',...</td>\n",
       "      <td>1.477029e+09</td>\n",
       "      <td>1.0</td>\n",
       "      <td>1.477029e+09</td>\n",
       "      <td>chrome</td>\n",
       "      <td>desktop</td>\n",
       "      <td>...</td>\n",
       "      <td>not available in demo dataset_chrome</td>\n",
       "      <td>not available in demo dataset_desktop</td>\n",
       "      <td>not available in demo dataset_Macintosh</td>\n",
       "      <td>not available in demo dataset_google</td>\n",
       "      <td>Australasia_chrome</td>\n",
       "      <td>Australasia_desktop</td>\n",
       "      <td>Australasia_Macintosh</td>\n",
       "      <td>Australasia_google</td>\n",
       "      <td>nan_google_New Zealand</td>\n",
       "      <td>organic_google_New Zealand</td>\n",
       "    </tr>\n",
       "    <tr>\n",
       "      <th>168926</th>\n",
       "      <td>Organic Search</td>\n",
       "      <td>[]</td>\n",
       "      <td>2016-12-01 07:55:01</td>\n",
       "      <td>0000020424342248747</td>\n",
       "      <td>[{'hitNumber': '1', 'time': '0', 'hour': '23',...</td>\n",
       "      <td>1.480579e+09</td>\n",
       "      <td>1.0</td>\n",
       "      <td>1.480579e+09</td>\n",
       "      <td>chrome</td>\n",
       "      <td>desktop</td>\n",
       "      <td>...</td>\n",
       "      <td>Lima Region_chrome</td>\n",
       "      <td>Lima Region_desktop</td>\n",
       "      <td>Lima Region_Windows</td>\n",
       "      <td>Lima Region_direct</td>\n",
       "      <td>South America_chrome</td>\n",
       "      <td>South America_desktop</td>\n",
       "      <td>South America_Windows</td>\n",
       "      <td>South America_direct</td>\n",
       "      <td>nan_direct_Peru</td>\n",
       "      <td>(none)_direct_Peru</td>\n",
       "    </tr>\n",
       "    <tr>\n",
       "      <th>1260547</th>\n",
       "      <td>Organic Search</td>\n",
       "      <td>[{'index': '4', 'value': 'North America'}]</td>\n",
       "      <td>2017-02-12 02:24:53</td>\n",
       "      <td>0000027376579751715</td>\n",
       "      <td>[{'hitNumber': '1', 'time': '0', 'hour': '18',...</td>\n",
       "      <td>1.486866e+09</td>\n",
       "      <td>1.0</td>\n",
       "      <td>1.486866e+09</td>\n",
       "      <td>chrome</td>\n",
       "      <td>desktop</td>\n",
       "      <td>...</td>\n",
       "      <td>not available in demo dataset_chrome</td>\n",
       "      <td>not available in demo dataset_desktop</td>\n",
       "      <td>not available in demo dataset_Macintosh</td>\n",
       "      <td>not available in demo dataset_direct</td>\n",
       "      <td>Northern America_chrome</td>\n",
       "      <td>Northern America_desktop</td>\n",
       "      <td>Northern America_Macintosh</td>\n",
       "      <td>Northern America_direct</td>\n",
       "      <td>nan_direct_United States</td>\n",
       "      <td>(none)_direct_United States</td>\n",
       "    </tr>\n",
       "  </tbody>\n",
       "</table>\n",
       "<p>5 rows × 73 columns</p>\n",
       "</div>"
      ],
      "text/plain": [
       "        channelGrouping                            customDimensions  \\\n",
       "683687   Organic Search  [{'index': '4', 'value': 'North America'}]   \n",
       "680923   Organic Search  [{'index': '4', 'value': 'North America'}]   \n",
       "379656   Organic Search                                          []   \n",
       "168926   Organic Search                                          []   \n",
       "1260547  Organic Search  [{'index': '4', 'value': 'North America'}]   \n",
       "\n",
       "                       date        fullVisitorId  \\\n",
       "683687  2017-11-28 23:33:21  0000000259678714014   \n",
       "680923  2017-11-29 00:19:40  0000000259678714014   \n",
       "379656  2016-10-21 05:57:46  0000010278554503158   \n",
       "168926  2016-12-01 07:55:01  0000020424342248747   \n",
       "1260547 2017-02-12 02:24:53  0000027376579751715   \n",
       "\n",
       "                                                      hits       visitId  \\\n",
       "683687   [{'hitNumber': '1', 'time': '0', 'hour': '15',...  1.511912e+09   \n",
       "680923   [{'hitNumber': '1', 'time': '0', 'hour': '16',...  1.511915e+09   \n",
       "379656   [{'hitNumber': '1', 'time': '0', 'hour': '22',...  1.477029e+09   \n",
       "168926   [{'hitNumber': '1', 'time': '0', 'hour': '23',...  1.480579e+09   \n",
       "1260547  [{'hitNumber': '1', 'time': '0', 'hour': '18',...  1.486866e+09   \n",
       "\n",
       "         visitNumber  visitStartTime device.browser device.deviceCategory  \\\n",
       "683687           1.0    1.511912e+09         chrome               desktop   \n",
       "680923           2.0    1.511915e+09         chrome               desktop   \n",
       "379656           1.0    1.477029e+09         chrome               desktop   \n",
       "168926           1.0    1.480579e+09         chrome               desktop   \n",
       "1260547          1.0    1.486866e+09         chrome               desktop   \n",
       "\n",
       "                     ...                   geoNetwork.region_device.browser  \\\n",
       "683687               ...                                  California_chrome   \n",
       "680923               ...                                  California_chrome   \n",
       "379656               ...               not available in demo dataset_chrome   \n",
       "168926               ...                                 Lima Region_chrome   \n",
       "1260547              ...               not available in demo dataset_chrome   \n",
       "\n",
       "        geoNetwork.region_device.deviceCategory  \\\n",
       "683687                       California_desktop   \n",
       "680923                       California_desktop   \n",
       "379656    not available in demo dataset_desktop   \n",
       "168926                      Lima Region_desktop   \n",
       "1260547   not available in demo dataset_desktop   \n",
       "\n",
       "        geoNetwork.region_device.operatingSystem  \\\n",
       "683687                      California_Macintosh   \n",
       "680923                      California_Macintosh   \n",
       "379656   not available in demo dataset_Macintosh   \n",
       "168926                       Lima Region_Windows   \n",
       "1260547  not available in demo dataset_Macintosh   \n",
       "\n",
       "        geoNetwork.region_trafficSource.source  \\\n",
       "683687                       California_google   \n",
       "680923                       California_google   \n",
       "379656    not available in demo dataset_google   \n",
       "168926                      Lima Region_direct   \n",
       "1260547   not available in demo dataset_direct   \n",
       "\n",
       "        geoNetwork.subContinent_device.browser  \\\n",
       "683687                 Northern America_chrome   \n",
       "680923                 Northern America_chrome   \n",
       "379656                      Australasia_chrome   \n",
       "168926                    South America_chrome   \n",
       "1260547                Northern America_chrome   \n",
       "\n",
       "        geoNetwork.subContinent_device.deviceCategory  \\\n",
       "683687                       Northern America_desktop   \n",
       "680923                       Northern America_desktop   \n",
       "379656                            Australasia_desktop   \n",
       "168926                          South America_desktop   \n",
       "1260547                      Northern America_desktop   \n",
       "\n",
       "        geoNetwork.subContinent_device.operatingSystem  \\\n",
       "683687                      Northern America_Macintosh   \n",
       "680923                      Northern America_Macintosh   \n",
       "379656                           Australasia_Macintosh   \n",
       "168926                           South America_Windows   \n",
       "1260547                     Northern America_Macintosh   \n",
       "\n",
       "        geoNetwork.subContinent_trafficSource.source  \\\n",
       "683687                       Northern America_google   \n",
       "680923                       Northern America_google   \n",
       "379656                            Australasia_google   \n",
       "168926                          South America_direct   \n",
       "1260547                      Northern America_direct   \n",
       "\n",
       "                   content.source                 medium.source  \n",
       "683687   nan_google_United States  organic_google_United States  \n",
       "680923   nan_google_United States  organic_google_United States  \n",
       "379656     nan_google_New Zealand    organic_google_New Zealand  \n",
       "168926            nan_direct_Peru            (none)_direct_Peru  \n",
       "1260547  nan_direct_United States   (none)_direct_United States  \n",
       "\n",
       "[5 rows x 73 columns]"
      ]
     },
     "execution_count": 10,
     "metadata": {},
     "output_type": "execute_result"
    }
   ],
   "source": [
    "train.head()"
   ]
  },
  {
   "cell_type": "markdown",
   "metadata": {},
   "source": [
    "### Generate actual user-based training and test dataset\n",
    "* For response variable (y): we first of all need to choose a time frame that is of the same length of the leader board (61 days) from training set, then calculate the sum of revenue by visitor. Example: Jun 1, 2017 - Aug 1, 2017\n",
    "\n",
    "* For predictors (X): a time frame that is of the same length of test_v2.csv(168 days), and the starting date is 214 days prior to the starting date of the time frame we chose for response variable. Example: Oct 30, 2016 - Dec 30, 2016"
   ]
  },
  {
   "cell_type": "code",
   "execution_count": 11,
   "metadata": {},
   "outputs": [
    {
     "name": "stdout",
     "output_type": "stream",
     "text": [
      "Training y start and end dates: 2018-08-15 00:00:00 2018-10-15 00:00:00\n",
      "Training X start and end dates: 2018-01-13 00:00:00 2018-06-29 00:00:00\n"
     ]
    }
   ],
   "source": [
    "## test y dates\n",
    "test_y_start_date = pd.to_datetime('2018-12-01')\n",
    "test_y_end_date = pd.to_datetime('2019-01-31')\n",
    "\n",
    "test_y_days = (test_y_end_date - test_y_start_date).days\n",
    "\n",
    "## test x dates\n",
    "test_x_start_date = pd.to_datetime('2018-05-01')\n",
    "test_x_end_date = pd.to_datetime('2018-10-15')\n",
    "\n",
    "test_days = test_x_end_date - test_x_start_date\n",
    "test_days = test_days.days\n",
    "\n",
    "test_diff_days = (test_y_start_date - test_x_start_date).days\n",
    "\n",
    "## y and X dates\n",
    "from datetime import timedelta as td\n",
    "train_y_end_date = pd.to_datetime('2018-10-15') ## This needs to be updated when new train/test datasets were published\n",
    "train_y_start_date = train_y_end_date - td(days=test_y_days)\n",
    "print (\"Training y start and end dates:\", train_y_start_date, train_y_end_date)\n",
    "\n",
    "train_x_start_date = train_y_start_date - td(days=test_diff_days)\n",
    "train_x_end_date = train_x_start_date + td(days=test_days)\n",
    "print (\"Training X start and end dates:\", train_x_start_date, train_x_end_date)"
   ]
  },
  {
   "cell_type": "markdown",
   "metadata": {},
   "source": [
    "#### Generate session data"
   ]
  },
  {
   "cell_type": "code",
   "execution_count": 12,
   "metadata": {},
   "outputs": [],
   "source": [
    "train = pd.concat([train, test])"
   ]
  },
  {
   "cell_type": "code",
   "execution_count": 13,
   "metadata": {},
   "outputs": [
    {
     "name": "stdout",
     "output_type": "stream",
     "text": [
      "training /test data shapes: (468902, 73) (136626, 73)\n",
      "\n",
      "Out of 361469 visitors only 111 had generated transactions(revenues), the ratio of transaction is 0.000307\n"
     ]
    }
   ],
   "source": [
    "train_sess = train[(train['date']>=train_x_start_date) & (train['date']<=train_x_end_date)]\n",
    "y_sess = train[(train['date']>=train_y_start_date) & (train['date']<=train_y_end_date)]\n",
    "print (\"training /test data shapes:\", train_sess.shape, y_sess.shape)\n",
    "\n",
    "x_visitors = train_sess.fullVisitorId.unique()\n",
    "y_visitors = y_sess[y_sess['totals.transactionRevenue']>0].fullVisitorId.unique()\n",
    "ratio_trans_vistors = len(set(x_visitors).intersection(set(y_visitors)))/len(x_visitors)\n",
    "\n",
    "test_sess = test\n",
    "print (\"\\nOut of %d visitors only %d had generated transactions(revenues), the ratio of transaction is %f\" \\\n",
    "       % (len(x_visitors), len(set(x_visitors).intersection(set(y_visitors))), ratio_trans_vistors))"
   ]
  },
  {
   "cell_type": "markdown",
   "metadata": {},
   "source": [
    "#### Generate training data with response variable"
   ]
  },
  {
   "cell_type": "code",
   "execution_count": 14,
   "metadata": {},
   "outputs": [
    {
     "name": "stdout",
     "output_type": "stream",
     "text": [
      "361469 296530\n"
     ]
    }
   ],
   "source": [
    "train_data = train_sess.groupby('fullVisitorId')['visitId'].count().reset_index().rename(columns={'visitId': 'sess_cnt'})\n",
    "train_data = pd.merge(train_data,\n",
    "                      y_sess.groupby('fullVisitorId')['totals.transactionRevenue'].agg(\n",
    "                          [np.size, np.sum]).reset_index().rename(columns={'size': 'y_sess_cnt', 'sum': 'y_revenue'}),\n",
    "                      how='left',\n",
    "                      on='fullVisitorId'\n",
    "                      ).fillna(0)\n",
    "\n",
    "test_data = test_sess.groupby('fullVisitorId')['visitId'].count().reset_index().rename(columns={'visitId': 'sess_cnt'})\n",
    "\n",
    "# full_data = pd.concat([train_data, test_data])\n",
    "\n",
    "full_sess = pd.concat([train_sess, test_sess])\n",
    "\n",
    "train_size = train_data.shape[0]\n",
    "test_size = test_data.shape[0]\n",
    "print(train_size, test_size)\n",
    "\n",
    "test_ids = test_data['fullVisitorId'].values\n",
    "train_y = np.log1p(train_data.y_revenue.values)\n",
    "\n",
    "# full_data.head()"
   ]
  },
  {
   "cell_type": "markdown",
   "metadata": {},
   "source": [
    "### Numerical features\n",
    "\n",
    "Calculate a variety of statistics by visitors, this can be done by using the tricks discussed in Two Sigma challenges"
   ]
  },
  {
   "cell_type": "code",
   "execution_count": 15,
   "metadata": {},
   "outputs": [
    {
     "data": {
      "text/plain": [
       "['visitNumber',\n",
       " 'device.isMobile',\n",
       " 'totals.bounces',\n",
       " 'totals.hits',\n",
       " 'totals.newVisits',\n",
       " 'totals.pageviews',\n",
       " 'trafficSource.isTrueDirect',\n",
       " 'sess_date_dow',\n",
       " 'sess_date_hours',\n",
       " 'sess_date_dom',\n",
       " 'next_session_1',\n",
       " 'next_session_2']"
      ]
     },
     "execution_count": 15,
     "metadata": {},
     "output_type": "execute_result"
    }
   ],
   "source": [
    "# num_vars = [\n",
    "#     _f for _f in train.columns\n",
    "#     if (_f not in excluded_features) & ((train[_f].dtype == 'int64') |(train[_f].dtype == 'float') )\n",
    "# ]\n",
    "\n",
    "num_vars = ['visitNumber',\n",
    "            'device.isMobile',\n",
    "            'totals.bounces',\n",
    "            'totals.hits',\n",
    "            'totals.newVisits',\n",
    "            'totals.pageviews',\n",
    "            'trafficSource.isTrueDirect',\n",
    "            'sess_date_dow',\n",
    "            'sess_date_hours',\n",
    "            'sess_date_dom', \n",
    "            'next_session_1',\n",
    "            'next_session_2']\n",
    "num_vars"
   ]
  },
  {
   "cell_type": "code",
   "execution_count": 16,
   "metadata": {},
   "outputs": [],
   "source": [
    "from scipy.stats import skew, kurtosis\n",
    "\n",
    "def p25(x):\n",
    "    return np.percentile(x, 25)\n",
    "def p50(x):\n",
    "    return np.percentile(x, 50)\n",
    "def p75(x):\n",
    "    return np.percentile(x, 75)\n",
    "def nunique(x):\n",
    "    return np.size(np.unique(x))\n",
    "def max_min(x):\n",
    "    return np.max(x)-np.min(x)\n",
    "def p75_p25(x):\n",
    "    return np.percentile(x, 75)-np.percentile(x, 25)\n",
    "\n",
    "\n",
    "\n",
    "def get_group_stats(df, stat_funcs, target_column, group_column, ranking=False, ranking_pct=True, keep_raw=False):\n",
    "    aggr = df.groupby(group_column)[target_column].agg(stat_funcs.values()).reset_index()\n",
    "    aggr.columns = [group_column] + [  target_column + '_' + k + '_by_' + group_column for k in stat_funcs.keys()]\n",
    "    if keep_raw:\n",
    "        aggr = df[[group_column]].merge(aggr, how='left', on=group_column)\n",
    "    \n",
    "    #rank\n",
    "    if ranking:\n",
    "        aggr[target_column + '_rank_by_' + group_column] = df.groupby(group_column)[target_column].rank(method='dense', \n",
    "                                                                                                    na_option='top',\n",
    "                                                                                                    pct=ranking_pct)\n",
    "    if keep_raw:\n",
    "        aggr.drop(group_column, axis=1, inplace=True)\n",
    "    return aggr"
   ]
  },
  {
   "cell_type": "code",
   "execution_count": 17,
   "metadata": {},
   "outputs": [
    {
     "name": "stdout",
     "output_type": "stream",
     "text": [
      "Processing visitNumber...\n",
      "Processing device.isMobile...\n",
      "Processing totals.bounces...\n",
      "Processing totals.hits...\n",
      "Processing totals.newVisits...\n",
      "Processing totals.pageviews...\n",
      "Processing trafficSource.isTrueDirect...\n",
      "Processing sess_date_dow...\n",
      "Processing sess_date_hours...\n",
      "Processing sess_date_dom...\n",
      "Processing next_session_1...\n",
      "Processing next_session_2...\n",
      "Wall time: 20.8 s\n"
     ]
    }
   ],
   "source": [
    "%%time\n",
    "stat_funcs = {\n",
    "#     'count_unique': nunique,\n",
    "    'mean': np.mean,\n",
    "    'min': np.min,\n",
    "    'max': np.max,\n",
    "    'std': np.std,\n",
    "#     'p25': p25,\n",
    "#     'p50': p50,\n",
    "#     'p75': p75,\n",
    "#     'skew': skew,\n",
    "#     'kurtosis': kurtosis,\n",
    "#     'max_min': max_min,\n",
    "#     'p75_p25': p75_p25\n",
    "}\n",
    "\n",
    "\n",
    "aggr_vars = []\n",
    "for num_var in num_vars:\n",
    "    print(\"Processing %s...\" % (num_var))\n",
    "    train_aggr = get_group_stats(train_sess, stat_funcs, target_column=num_var, group_column='fullVisitorId', \n",
    "                           ranking=False, ranking_pct=False)\n",
    "    train_data = pd.merge(train_data, train_aggr, how='left', on='fullVisitorId')\n",
    "    \n",
    "    test_aggr = get_group_stats(test_sess, stat_funcs, target_column=num_var, group_column='fullVisitorId', \n",
    "                           ranking=False, ranking_pct=False)\n",
    "    test_data = pd.merge(test_data, test_aggr, how='left', on='fullVisitorId')\n",
    "    \n",
    "    aggr_vars.extend(list(train_aggr.columns))\n",
    "    aggr_vars.remove('fullVisitorId')\n",
    "                         "
   ]
  },
  {
   "cell_type": "markdown",
   "metadata": {},
   "source": [
    "### Categorical features\n",
    "\n",
    "* Create dummies for each categorical feature but there might be multiple “1”s indicating the existence on the corresponding level, as compared to OHE where there cannot be more than one “1” which indicates the exact level.\n",
    "* This can be done using scikit-learn’s feature extraction tool such as CountVectorizer with some tricks."
   ]
  },
  {
   "cell_type": "code",
   "execution_count": 18,
   "metadata": {},
   "outputs": [],
   "source": [
    "from sklearn.feature_extraction.text import CountVectorizer, TfidfVectorizer\n",
    "from scipy import sparse"
   ]
  },
  {
   "cell_type": "code",
   "execution_count": 19,
   "metadata": {},
   "outputs": [
    {
     "data": {
      "text/plain": [
       "['channelGrouping',\n",
       " 'customDimensions',\n",
       " 'hits',\n",
       " 'device.browser',\n",
       " 'device.deviceCategory',\n",
       " 'device.operatingSystem',\n",
       " 'geoNetwork.city',\n",
       " 'geoNetwork.continent',\n",
       " 'geoNetwork.country',\n",
       " 'geoNetwork.metro',\n",
       " 'geoNetwork.networkDomain',\n",
       " 'geoNetwork.region',\n",
       " 'geoNetwork.subContinent',\n",
       " 'trafficSource.adContent',\n",
       " 'trafficSource.campaign',\n",
       " 'trafficSource.keyword',\n",
       " 'trafficSource.medium',\n",
       " 'trafficSource.referralPath',\n",
       " 'trafficSource.source',\n",
       " 'source.country',\n",
       " 'campaign.medium',\n",
       " 'browser.category',\n",
       " 'browser.os',\n",
       " 'device_deviceCategory_channelGrouping',\n",
       " 'channelGrouping_browser',\n",
       " 'channelGrouping_OS',\n",
       " 'geoNetwork.city_device.browser',\n",
       " 'geoNetwork.city_device.deviceCategory',\n",
       " 'geoNetwork.city_device.operatingSystem',\n",
       " 'geoNetwork.city_trafficSource.source',\n",
       " 'geoNetwork.continent_device.browser',\n",
       " 'geoNetwork.continent_device.deviceCategory',\n",
       " 'geoNetwork.continent_device.operatingSystem',\n",
       " 'geoNetwork.continent_trafficSource.source',\n",
       " 'geoNetwork.country_device.browser',\n",
       " 'geoNetwork.country_device.deviceCategory',\n",
       " 'geoNetwork.country_device.operatingSystem',\n",
       " 'geoNetwork.country_trafficSource.source',\n",
       " 'geoNetwork.metro_device.browser',\n",
       " 'geoNetwork.metro_device.deviceCategory',\n",
       " 'geoNetwork.metro_device.operatingSystem',\n",
       " 'geoNetwork.metro_trafficSource.source',\n",
       " 'geoNetwork.networkDomain_device.browser',\n",
       " 'geoNetwork.networkDomain_device.deviceCategory',\n",
       " 'geoNetwork.networkDomain_device.operatingSystem',\n",
       " 'geoNetwork.networkDomain_trafficSource.source',\n",
       " 'geoNetwork.region_device.browser',\n",
       " 'geoNetwork.region_device.deviceCategory',\n",
       " 'geoNetwork.region_device.operatingSystem',\n",
       " 'geoNetwork.region_trafficSource.source',\n",
       " 'geoNetwork.subContinent_device.browser',\n",
       " 'geoNetwork.subContinent_device.deviceCategory',\n",
       " 'geoNetwork.subContinent_device.operatingSystem',\n",
       " 'geoNetwork.subContinent_trafficSource.source',\n",
       " 'content.source',\n",
       " 'medium.source']"
      ]
     },
     "execution_count": 19,
     "metadata": {},
     "output_type": "execute_result"
    }
   ],
   "source": [
    "cat_vars = [\n",
    "    _f for _f in train.columns\n",
    "    if (_f not in excluded_features) & (train[_f].dtype == 'object')\n",
    "]\n",
    "cat_vars"
   ]
  },
  {
   "cell_type": "code",
   "execution_count": 20,
   "metadata": {},
   "outputs": [
    {
     "name": "stdout",
     "output_type": "stream",
     "text": [
      "Processing channelGrouping...\n",
      "Processing customDimensions...\n",
      "Processing hits...\n",
      "Processing device.browser...\n",
      "Processing device.deviceCategory...\n",
      "Processing device.operatingSystem...\n",
      "Processing geoNetwork.city...\n",
      "Processing geoNetwork.continent...\n",
      "Processing geoNetwork.country...\n",
      "Processing geoNetwork.metro...\n",
      "Processing geoNetwork.networkDomain...\n",
      "Processing geoNetwork.region...\n",
      "Processing geoNetwork.subContinent...\n",
      "Processing trafficSource.adContent...\n",
      "Processing trafficSource.campaign...\n",
      "Processing trafficSource.keyword...\n",
      "Processing trafficSource.medium...\n",
      "Processing trafficSource.referralPath...\n",
      "Processing trafficSource.source...\n",
      "Processing source.country...\n",
      "Processing campaign.medium...\n",
      "Processing browser.category...\n",
      "Processing browser.os...\n",
      "Processing device_deviceCategory_channelGrouping...\n",
      "Processing channelGrouping_browser...\n",
      "Processing channelGrouping_OS...\n",
      "Processing geoNetwork.city_device.browser...\n",
      "Processing geoNetwork.city_device.deviceCategory...\n",
      "Processing geoNetwork.city_device.operatingSystem...\n",
      "Processing geoNetwork.city_trafficSource.source...\n",
      "Processing geoNetwork.continent_device.browser...\n",
      "Processing geoNetwork.continent_device.deviceCategory...\n",
      "Processing geoNetwork.continent_device.operatingSystem...\n",
      "Processing geoNetwork.continent_trafficSource.source...\n",
      "Processing geoNetwork.country_device.browser...\n",
      "Processing geoNetwork.country_device.deviceCategory...\n",
      "Processing geoNetwork.country_device.operatingSystem...\n",
      "Processing geoNetwork.country_trafficSource.source...\n",
      "Processing geoNetwork.metro_device.browser...\n",
      "Processing geoNetwork.metro_device.deviceCategory...\n",
      "Processing geoNetwork.metro_device.operatingSystem...\n",
      "Processing geoNetwork.metro_trafficSource.source...\n",
      "Processing geoNetwork.networkDomain_device.browser...\n",
      "Processing geoNetwork.networkDomain_device.deviceCategory...\n",
      "Processing geoNetwork.networkDomain_device.operatingSystem...\n",
      "Processing geoNetwork.networkDomain_trafficSource.source...\n",
      "Processing geoNetwork.region_device.browser...\n",
      "Processing geoNetwork.region_device.deviceCategory...\n",
      "Processing geoNetwork.region_device.operatingSystem...\n",
      "Processing geoNetwork.region_trafficSource.source...\n",
      "Processing geoNetwork.subContinent_device.browser...\n",
      "Processing geoNetwork.subContinent_device.deviceCategory...\n",
      "Processing geoNetwork.subContinent_device.operatingSystem...\n",
      "Processing geoNetwork.subContinent_trafficSource.source...\n",
      "Processing content.source...\n",
      "Processing medium.source...\n"
     ]
    }
   ],
   "source": [
    "train_cat_sparse_list = []\n",
    "test_cat_sparse_list = []\n",
    "cat_sparse_vars = []\n",
    "for cat_var in cat_vars:\n",
    "    print (\"Processing %s...\" % (cat_var))\n",
    "    train_aggr = train_sess[['fullVisitorId', cat_var]].fillna('NA').groupby('fullVisitorId')[cat_var].apply(list).apply(lambda x:','.join(x)).apply(lambda x:x.replace('.', '').replace(' ', '').replace('_', '').replace('-', ''))\n",
    "    test_aggr = test_sess[['fullVisitorId', cat_var]].fillna('NA').groupby('fullVisitorId')[cat_var].apply(list).apply(lambda x:','.join(x)).apply(lambda x:x.replace('.', '').replace(' ', '').replace('_', '').replace('-', ''))\n",
    "    transformer = CountVectorizer(binary=True, max_features=100)\n",
    "    train_cat_sparse_list.append(transformer.fit_transform(train_aggr).tocsr())\n",
    "    test_cat_sparse_list.append(transformer.transform(test_aggr).tocsr())\n",
    "    cat_sparse_vars.extend([ cat_var+':'+ v for v in transformer.vocabulary_])\n"
   ]
  },
  {
   "cell_type": "markdown",
   "metadata": {},
   "source": [
    "#### Concatenate transformed numerical features and categorical features together"
   ]
  },
  {
   "cell_type": "code",
   "execution_count": 21,
   "metadata": {},
   "outputs": [
    {
     "name": "stdout",
     "output_type": "stream",
     "text": [
      "(361469, 4301) (296530, 4301)\n"
     ]
    }
   ],
   "source": [
    "train_x = sparse.hstack([train_data[aggr_vars].values, \n",
    "                         sparse.hstack(train_cat_sparse_list).tocsr()]).tocsr()\n",
    "train_y = np.log1p(train_data.y_revenue.values)\n",
    "test_x = sparse.hstack([test_data[aggr_vars].values, \n",
    "                         sparse.hstack(test_cat_sparse_list).tocsr()]).tocsr()\n",
    "full_vars = aggr_vars + cat_sparse_vars\n",
    "print (train_x.shape,test_x.shape)"
   ]
  },
  {
   "cell_type": "markdown",
   "metadata": {},
   "source": [
    "### All zero baseline\n",
    "\n",
    "Let's assume that no one actually generated any transactions (0 revenue) so we can create a all-zero baseline."
   ]
  },
  {
   "cell_type": "code",
   "execution_count": 22,
   "metadata": {},
   "outputs": [
    {
     "name": "stdout",
     "output_type": "stream",
     "text": [
      "All-zero baseline is 0.315664\n"
     ]
    }
   ],
   "source": [
    "all_zero_train_y = np.log1p(np.zeros(len(train_y)))\n",
    "all_zero_baseline = np.sqrt(mean_squared_error(train_y, all_zero_train_y))\n",
    "print (\"All-zero baseline is %f\" % (all_zero_baseline))"
   ]
  },
  {
   "cell_type": "code",
   "execution_count": 23,
   "metadata": {},
   "outputs": [
    {
     "data": {
      "text/plain": [
       "1995.9629380248107"
      ]
     },
     "execution_count": 23,
     "metadata": {},
     "output_type": "execute_result"
    }
   ],
   "source": [
    "train_y.sum()"
   ]
  },
  {
   "cell_type": "markdown",
   "metadata": {},
   "source": [
    "### Cross Validation"
   ]
  },
  {
   "cell_type": "markdown",
   "metadata": {},
   "source": [
    "#### Stratified on revenue flag (whether or not revenue were observed)"
   ]
  },
  {
   "cell_type": "code",
   "execution_count": 24,
   "metadata": {},
   "outputs": [],
   "source": [
    "train_y_dummy = np.array([0 if x==0 else 1 for x in train_data.y_revenue.values])"
   ]
  },
  {
   "cell_type": "code",
   "execution_count": 25,
   "metadata": {},
   "outputs": [],
   "source": [
    "from sklearn.model_selection import KFold,StratifiedKFold\n",
    "kfolds = 5\n",
    "random_state = 42\n",
    "\n",
    "skf = StratifiedKFold(n_splits=kfolds, shuffle=True, random_state=random_state)"
   ]
  },
  {
   "cell_type": "code",
   "execution_count": 26,
   "metadata": {},
   "outputs": [
    {
     "name": "stdout",
     "output_type": "stream",
     "text": [
      "Best LightGBM score : 0.311229, best iteration: 24\n"
     ]
    }
   ],
   "source": [
    "lgb_params = {'objective': 'regression_l2', \n",
    "              'learning_rate': 0.05, \n",
    "              'metric': 'rmse', 'bagging_freq': 1, \n",
    "              'seed': 1234, 'num_leaves': 31, 'verbose': 1,\n",
    "              'max_depth': 31, 'min_gain_to_split': 0.5, \n",
    "              'feature_fraction': 0.5, 'bagging_fraction': 1, \n",
    "              'min_sum_hessian_in_leaf': 1, \n",
    "              'lambda_l2': 0, 'lambda_l1': 0}\n",
    "\n",
    "lgb_cv = lgb.cv(lgb_params,\n",
    "                lgb.Dataset(train_x,\n",
    "                            label=train_y\n",
    "                            ),\n",
    "                num_boost_round=100000,\n",
    "                nfold=kfolds,\n",
    "                folds=skf.split(train_x,train_y_dummy),\n",
    "                stratified=False,\n",
    "                early_stopping_rounds=50,\n",
    "                verbose_eval=500)\n",
    "\n",
    "best_lgb_score = min(lgb_cv['rmse-mean'])\n",
    "best_lgb_iteration = len(lgb_cv['rmse-mean'])\n",
    "print ('Best LightGBM score : %f, best iteration: %d' % (best_lgb_score, best_lgb_iteration))"
   ]
  },
  {
   "cell_type": "code",
   "execution_count": 27,
   "metadata": {},
   "outputs": [],
   "source": [
    "model = lgb.train(lgb_params,\n",
    "                lgb.Dataset(train_x,\n",
    "                            label=train_y,feature_name=full_vars\n",
    "                            ),\n",
    "                num_boost_round=best_lgb_iteration)\n"
   ]
  },
  {
   "cell_type": "code",
   "execution_count": 28,
   "metadata": {},
   "outputs": [
    {
     "data": {
      "text/plain": [
       "<matplotlib.axes._subplots.AxesSubplot at 0x2453c5b9e48>"
      ]
     },
     "execution_count": 28,
     "metadata": {},
     "output_type": "execute_result"
    },
    {
     "data": {
      "image/png": "[encoded data removed]",
      "text/plain": [
       "<matplotlib.figure.Figure at 0x244c0744588>"
      ]
     },
     "metadata": {
      "needs_background": "light"
     },
     "output_type": "display_data"
    }
   ],
   "source": [
    "lgb.plot_importance(model, figsize=(9,16), max_num_features=40)"
   ]
  },
  {
   "cell_type": "markdown",
   "metadata": {},
   "source": [
    "### Parameter tuning"
   ]
  },
  {
   "cell_type": "markdown",
   "metadata": {},
   "source": [
    "#### LightGBM tuning\n",
    "##### Manual tuning (greedy search)\n",
    "\n",
    "* Tune one parameter at a time.\n",
    "* Find the best value for a parameter then move to the next one.\n",
    "* Repeat the process for all the parameters we want to tune.\n",
    "* Tuning with a larger learning rate 0.1.\n",
    "* scale_pos_weight needs to be tuned for imbalanced dataset."
   ]
  },
  {
   "cell_type": "code",
   "execution_count": 29,
   "metadata": {},
   "outputs": [
    {
     "name": "stdout",
     "output_type": "stream",
     "text": [
      "\n",
      " Tuning parameter num_leaves in [3, 7, 15, 31, 63, 127, 255]\n",
      "\n",
      "    num_leaves: 3\n",
      ", best_score: 0.310915, best_iteration: 181\n",
      "\n",
      "    num_leaves: 7\n",
      ", best_score: 0.311358, best_iteration: 31\n",
      "\n",
      "    num_leaves: 15\n",
      ", best_score: 0.311893, best_iteration: 20\n",
      "\n",
      "    num_leaves: 31\n",
      ", best_score: 0.312344, best_iteration: 18\n",
      "\n",
      "    num_leaves: 63\n",
      ", best_score: 0.312682, best_iteration: 18\n",
      "\n",
      "    num_leaves: 127\n",
      ", best_score: 0.312665, best_iteration: 16\n",
      "\n",
      "    num_leaves: 255\n",
      ", best_score: 0.312551, best_iteration: 19\n",
      "Best num_leaves is 3 with a score of 0.310915\n",
      "\n",
      " Tuning parameter max_depth in [3, 4, 5, 6, 7, 8, -1]\n",
      "\n",
      "    max_depth: 3\n",
      ", best_score: 0.310915, best_iteration: 181\n",
      "\n",
      "    max_depth: 4\n",
      ", best_score: 0.310915, best_iteration: 181\n",
      "\n",
      "    max_depth: 5\n",
      ", best_score: 0.310915, best_iteration: 181\n",
      "\n",
      "    max_depth: 6\n",
      ", best_score: 0.310915, best_iteration: 181\n",
      "\n",
      "    max_depth: 7\n",
      ", best_score: 0.310915, best_iteration: 181\n",
      "\n",
      "    max_depth: 8\n",
      ", best_score: 0.310915, best_iteration: 181\n",
      "\n",
      "    max_depth: -1\n",
      ", best_score: 0.310915, best_iteration: 181\n",
      "Best max_depth is 3 with a score of 0.310915\n",
      "\n",
      " Tuning parameter min_gain_to_split in [0, 0.1, 0.3, 1, 1.5, 2, 3]\n",
      "\n",
      "    min_gain_to_split: 0\n",
      ", best_score: 0.310915, best_iteration: 181\n",
      "\n",
      "    min_gain_to_split: 0.1\n",
      ", best_score: 0.310935, best_iteration: 180\n",
      "\n",
      "    min_gain_to_split: 0.3\n",
      ", best_score: 0.310873, best_iteration: 199\n",
      "\n",
      "    min_gain_to_split: 1\n",
      ", best_score: 0.310835, best_iteration: 167\n",
      "\n",
      "    min_gain_to_split: 1.5\n",
      ", best_score: 0.310839, best_iteration: 184\n",
      "\n",
      "    min_gain_to_split: 2\n",
      ", best_score: 0.310970, best_iteration: 140\n",
      "\n",
      "    min_gain_to_split: 3\n",
      ", best_score: 0.310962, best_iteration: 154\n",
      "Best min_gain_to_split is 1 with a score of 0.310835\n",
      "\n",
      " Tuning parameter feature_fraction in [0.1, 0.3, 0.5, 0.7, 0.9]\n",
      "\n",
      "    feature_fraction: 0.1\n",
      ", best_score: 0.310921, best_iteration: 157\n",
      "\n",
      "    feature_fraction: 0.3\n",
      ", best_score: 0.311018, best_iteration: 216\n",
      "\n",
      "    feature_fraction: 0.5\n",
      ", best_score: 0.310916, best_iteration: 191\n",
      "\n",
      "    feature_fraction: 0.7\n",
      ", best_score: 0.310799, best_iteration: 207\n",
      "\n",
      "    feature_fraction: 0.9\n",
      ", best_score: 0.310867, best_iteration: 130\n",
      "Best feature_fraction is 0.7 with a score of 0.310799\n",
      "\n",
      " Tuning parameter bagging_fraction in [0.2, 0.4, 0.6, 0.8, 1]\n",
      "\n",
      "    bagging_fraction: 0.2\n",
      ", best_score: 0.311813, best_iteration: 72\n",
      "\n",
      "    bagging_fraction: 0.4\n",
      ", best_score: 0.311255, best_iteration: 160\n",
      "\n",
      "    bagging_fraction: 0.6\n",
      ", best_score: 0.310918, best_iteration: 223\n",
      "\n",
      "    bagging_fraction: 0.8\n",
      ", best_score: 0.310847, best_iteration: 217\n",
      "\n",
      "    bagging_fraction: 1\n",
      ", best_score: 0.310799, best_iteration: 207\n",
      "Best bagging_fraction is 1 with a score of 0.310799\n",
      "\n",
      " Tuning parameter min_sum_hessian_in_leaf in [1, 5, 10, 30, 100]\n",
      "\n",
      "    min_sum_hessian_in_leaf: 1\n",
      ", best_score: 0.310799, best_iteration: 207\n",
      "\n",
      "    min_sum_hessian_in_leaf: 5\n",
      ", best_score: 0.310799, best_iteration: 207\n",
      "\n",
      "    min_sum_hessian_in_leaf: 10\n",
      ", best_score: 0.310799, best_iteration: 207\n",
      "\n",
      "    min_sum_hessian_in_leaf: 30\n",
      ", best_score: 0.310757, best_iteration: 208\n",
      "\n",
      "    min_sum_hessian_in_leaf: 100\n",
      ", best_score: 0.310515, best_iteration: 144\n",
      "Best min_sum_hessian_in_leaf is 100 with a score of 0.310515\n",
      "\n",
      " Tuning parameter lambda_l2 in [0, 0.01, 0.1, 1, 10, 100]\n",
      "\n",
      "    lambda_l2: 0\n",
      ", best_score: 0.310515, best_iteration: 144\n",
      "\n",
      "    lambda_l2: 0.01\n",
      ", best_score: 0.310515, best_iteration: 144\n",
      "\n",
      "    lambda_l2: 0.1\n",
      ", best_score: 0.310413, best_iteration: 216\n",
      "\n",
      "    lambda_l2: 1\n",
      ", best_score: 0.310491, best_iteration: 180\n",
      "\n",
      "    lambda_l2: 10\n",
      ", best_score: 0.310447, best_iteration: 186\n",
      "\n",
      "    lambda_l2: 100\n",
      ", best_score: 0.310482, best_iteration: 282\n",
      "Best lambda_l2 is 0.1 with a score of 0.310413\n",
      "\n",
      " Tuning parameter lambda_l1 in [0, 0.01, 0.1, 1, 10, 100]\n",
      "\n",
      "    lambda_l1: 0\n",
      ", best_score: 0.310413, best_iteration: 216\n",
      "\n",
      "    lambda_l1: 0.01\n",
      ", best_score: 0.310413, best_iteration: 216\n",
      "\n",
      "    lambda_l1: 0.1\n",
      ", best_score: 0.310430, best_iteration: 174\n",
      "\n",
      "    lambda_l1: 1\n",
      ", best_score: 0.310513, best_iteration: 177\n",
      "\n",
      "    lambda_l1: 10\n",
      ", best_score: 0.310502, best_iteration: 168\n",
      "\n",
      "    lambda_l1: 100\n",
      ", best_score: 0.310934, best_iteration: 97\n",
      "Best lambda_l1 is 0.01 with a score of 0.310413\n",
      "\n",
      " Best manually tuned parameters: {'learning_rate': 0.05, 'metric': 'rmse', 'bagging_freq': 1, 'seed': 1234, 'objective': 'regression', 'num_leaves': 3, 'max_depth': 3, 'min_gain_to_split': 1, 'feature_fraction': 0.7, 'bagging_fraction': 1, 'min_sum_hessian_in_leaf': 100, 'lambda_l2': 0.1, 'lambda_l1': 0.01}\n"
     ]
    }
   ],
   "source": [
    "import copy\n",
    "default_lgb_params = {}\n",
    "default_lgb_params[\"learning_rate\"] = 0.05\n",
    "default_lgb_params[\"metric\"] = 'rmse'\n",
    "default_lgb_params[\"bagging_freq\"] = 1\n",
    "default_lgb_params[\"seed\"] = 1234\n",
    "default_lgb_params[\"objective\"] = \"regression\"\n",
    "\n",
    "params_lgb_space = {}\n",
    "params_lgb_space['num_leaves'] = [3, 7, 15, 31, 63, 127, 255]\n",
    "params_lgb_space['max_depth'] = [3 ,4 ,5 ,6 ,7 ,8, -1]\n",
    "params_lgb_space['min_gain_to_split'] = [0, 0.1, 0.3, 1, 1.5, 2, 3]\n",
    "params_lgb_space['feature_fraction'] = [0.1, 0.3, 0.5, 0.7, 0.9]\n",
    "params_lgb_space['bagging_fraction'] = [0.2, 0.4, 0.6, 0.8, 1]\n",
    "params_lgb_space['min_sum_hessian_in_leaf'] = [1, 5, 10, 30, 100]\n",
    "params_lgb_space['lambda_l2'] = [0, 0.01, 0.1, 1, 10, 100]\n",
    "params_lgb_space['lambda_l1'] = [0, 0.01, 0.1, 1, 10, 100]\n",
    "# params_lgb_space['objective'] = ['regression', 'regression_l1', 'poisson']\n",
    "\n",
    "\n",
    "\n",
    "greater_is_better = False\n",
    "\n",
    "best_lgb_params = copy.copy(default_lgb_params)\n",
    "\n",
    "for p in params_lgb_space:\n",
    "    print (\"\\n Tuning parameter %s in %s\" % (p, params_lgb_space[p]))\n",
    "\n",
    "    params = best_lgb_params\n",
    "    scores = []    \n",
    "    for v in params_lgb_space[p]:\n",
    "        print ('\\n    %s: %s' % (p, v), end=\"\\n\")\n",
    "        params[p] = v\n",
    "        lgb_cv = lgb.cv(params,\n",
    "                lgb.Dataset(train_x,\n",
    "                            label=train_y\n",
    "                            ),\n",
    "                num_boost_round=100000,\n",
    "                nfold=kfolds,\n",
    "                folds=skf.split(train_x,train_y_dummy),\n",
    "                stratified=False,\n",
    "                early_stopping_rounds=50,\n",
    "                verbose_eval=500)\n",
    "\n",
    "        best_lgb_score = min(lgb_cv['rmse-mean'])\n",
    "        best_lgb_iteration = len(lgb_cv['rmse-mean'])\n",
    "        print (', best_score: %f, best_iteration: %d' % (best_lgb_score, best_lgb_iteration))\n",
    "        scores.append([v, best_lgb_score])\n",
    "    # best param value in the space\n",
    "    best_param_value = sorted(scores, key=lambda x:x[1],reverse=greater_is_better)[0][0]\n",
    "    best_param_score = sorted(scores, key=lambda x:x[1],reverse=greater_is_better)[0][1]\n",
    "    best_lgb_params[p] = best_param_value\n",
    "    print (\"Best %s is %s with a score of %f\" %(p, best_param_value, best_param_score))\n",
    "\n",
    "print ('\\n Best manually tuned parameters:', best_lgb_params)    "
   ]
  },
  {
   "cell_type": "code",
   "execution_count": 30,
   "metadata": {},
   "outputs": [
    {
     "name": "stdout",
     "output_type": "stream",
     "text": [
      "Best lambda_l1 is 0.01 with a score of 0.310413\n",
      "\n",
      " Best manually tuned parameters: {'learning_rate': 0.05, 'metric': 'rmse', 'bagging_freq': 1, 'seed': 1234, 'objective': 'regression', 'num_leaves': 3, 'max_depth': 3, 'min_gain_to_split': 1, 'feature_fraction': 0.7, 'bagging_fraction': 1, 'min_sum_hessian_in_leaf': 100, 'lambda_l2': 0.1, 'lambda_l1': 0.01}\n"
     ]
    }
   ],
   "source": [
    "best_param_value = sorted(scores, key=lambda x:x[1],reverse=greater_is_better)[0][0]\n",
    "best_param_score = sorted(scores, key=lambda x:x[1],reverse=greater_is_better)[0][1]\n",
    "best_lgb_params[p] = best_param_value\n",
    "print (\"Best %s is %s with a score of %f\" %(p, best_param_value, best_param_score))\n",
    "\n",
    "print ('\\n Best manually tuned parameters:', best_lgb_params)    "
   ]
  },
  {
   "cell_type": "markdown",
   "metadata": {},
   "source": [
    "##### Automated tuning\n",
    "\n",
    "We will be using a package BayesianOptimization for automated tuning. Results from manual tuning can be used to further narrow the space that needs to be searched from for better performance. \n",
    "\n",
    "Visit https://github.com/fmfn/BayesianOptimization for more details about Bayesian Optimization."
   ]
  },
  {
   "cell_type": "code",
   "execution_count": 31,
   "metadata": {},
   "outputs": [
    {
     "name": "stdout",
     "output_type": "stream",
     "text": [
      "\u001b[31mInitialization\u001b[0m\n",
      "\u001b[94m----------------------------------------------------------------------------------------------------------------------------------------------------------------------------------\u001b[0m\n",
      " Step |   Time |      Value |   bagging_fraction |   feature_fraction |   lambda_l1 |   lambda_l2 |   max_depth |   min_gain_to_split |   min_sum_hessian_in_leaf |   num_leaves | \n",
      ", best_score: 0.310928, best_iteration: 45\n",
      "    1 | 00m12s | \u001b[35m  -0.31093\u001b[0m | \u001b[32m            0.9426\u001b[0m | \u001b[32m            0.4225\u001b[0m | \u001b[32m     0.3329\u001b[0m | \u001b[32m     0.2371\u001b[0m | \u001b[32m    15.5022\u001b[0m | \u001b[32m             0.8611\u001b[0m | \u001b[32m                   0.5817\u001b[0m | \u001b[32m      7.9155\u001b[0m | \n",
      ", best_score: 0.311278, best_iteration: 28\n",
      "    2 | 00m10s |   -0.31128 |             0.9962 |             0.3873 |      0.3307 |      0.8237 |     25.4895 |              4.6092 |                    0.0268 |      26.9709 | \n",
      ", best_score: 0.311316, best_iteration: 26\n",
      "    3 | 00m10s |   -0.31132 |             0.9439 |             0.4413 |      0.5563 |      0.8764 |     25.7917 |              4.1889 |                    0.4488 |      22.3664 | \n",
      ", best_score: 0.310883, best_iteration: 37\n",
      "    4 | 00m11s | \u001b[35m  -0.31088\u001b[0m | \u001b[32m            0.9266\u001b[0m | \u001b[32m            0.5363\u001b[0m | \u001b[32m     0.7027\u001b[0m | \u001b[32m     0.9189\u001b[0m | \u001b[32m    28.2348\u001b[0m | \u001b[32m             4.3644\u001b[0m | \u001b[32m                   1.8297\u001b[0m | \u001b[32m      9.0212\u001b[0m | \n",
      ", best_score: 0.310878, best_iteration: 30\n",
      "    5 | 00m11s | \u001b[35m  -0.31088\u001b[0m | \u001b[32m            0.9297\u001b[0m | \u001b[32m            0.4388\u001b[0m | \u001b[32m     0.6400\u001b[0m | \u001b[32m     0.1887\u001b[0m | \u001b[32m    26.1081\u001b[0m | \u001b[32m             0.9769\u001b[0m | \u001b[32m                   0.2255\u001b[0m | \u001b[32m     15.3260\u001b[0m | \n"
     ]
    },
    {
     "name": "stderr",
     "output_type": "stream",
     "text": [
      "C:\\Users\\cb7vm\\AppData\\Local\\Continuum\\anaconda3\\lib\\site-packages\\sklearn\\gaussian_process\\gpr.py:457: UserWarning: fmin_l_bfgs_b terminated abnormally with the  state: {'grad': array([-0.0006022]), 'task': b'ABNORMAL_TERMINATION_IN_LNSRCH', 'funcalls': 50, 'nit': 6, 'warnflag': 2}\n",
      "  \" state: %s\" % convergence_dict)\n",
      "C:\\Users\\cb7vm\\AppData\\Local\\Continuum\\anaconda3\\lib\\site-packages\\sklearn\\gaussian_process\\gpr.py:335: UserWarning: Predicted variances smaller than 0. Setting those variances to 0.\n",
      "  warnings.warn(\"Predicted variances smaller than 0. \"\n"
     ]
    },
    {
     "name": "stdout",
     "output_type": "stream",
     "text": [
      "\u001b[31mBayesian Optimization\u001b[0m\n",
      "\u001b[94m----------------------------------------------------------------------------------------------------------------------------------------------------------------------------------\u001b[0m\n",
      " Step |   Time |      Value |   bagging_fraction |   feature_fraction |   lambda_l1 |   lambda_l2 |   max_depth |   min_gain_to_split |   min_sum_hessian_in_leaf |   num_leaves | \n",
      ", best_score: 0.310409, best_iteration: 43\n",
      "    6 | 00m25s | \u001b[35m  -0.31041\u001b[0m | \u001b[32m            0.9607\u001b[0m | \u001b[32m            0.4594\u001b[0m | \u001b[32m     0.7354\u001b[0m | \u001b[32m     0.1788\u001b[0m | \u001b[32m    29.9405\u001b[0m | \u001b[32m             4.8903\u001b[0m | \u001b[32m                   0.0918\u001b[0m | \u001b[32m      7.0153\u001b[0m | \n"
     ]
    },
    {
     "name": "stderr",
     "output_type": "stream",
     "text": [
      "C:\\Users\\cb7vm\\AppData\\Local\\Continuum\\anaconda3\\lib\\site-packages\\sklearn\\gaussian_process\\gpr.py:457: UserWarning: fmin_l_bfgs_b terminated abnormally with the  state: {'grad': array([-0.00028543]), 'task': b'ABNORMAL_TERMINATION_IN_LNSRCH', 'funcalls': 47, 'nit': 3, 'warnflag': 2}\n",
      "  \" state: %s\" % convergence_dict)\n"
     ]
    },
    {
     "name": "stdout",
     "output_type": "stream",
     "text": [
      ", best_score: 0.311174, best_iteration: 56\n",
      "    7 | 00m25s |   -0.31117 |             0.9728 |             0.4880 |      0.0851 |      0.6776 |     30.9951 |              0.2809 |                    0.0230 |       7.7935 | \n"
     ]
    },
    {
     "name": "stderr",
     "output_type": "stream",
     "text": [
      "C:\\Users\\cb7vm\\AppData\\Local\\Continuum\\anaconda3\\lib\\site-packages\\sklearn\\gaussian_process\\gpr.py:457: UserWarning: fmin_l_bfgs_b terminated abnormally with the  state: {'grad': array([-0.00021729]), 'task': b'ABNORMAL_TERMINATION_IN_LNSRCH', 'funcalls': 51, 'nit': 7, 'warnflag': 2}\n",
      "  \" state: %s\" % convergence_dict)\n",
      "C:\\Users\\cb7vm\\AppData\\Local\\Continuum\\anaconda3\\lib\\site-packages\\sklearn\\gaussian_process\\gpr.py:457: UserWarning: fmin_l_bfgs_b terminated abnormally with the  state: {'grad': array([-0.00047345]), 'task': b'ABNORMAL_TERMINATION_IN_LNSRCH', 'funcalls': 55, 'nit': 5, 'warnflag': 2}\n",
      "  \" state: %s\" % convergence_dict)\n"
     ]
    },
    {
     "name": "stdout",
     "output_type": "stream",
     "text": [
      ", best_score: 0.311105, best_iteration: 36\n",
      "    8 | 00m23s |   -0.31110 |             0.9415 |             0.4198 |      0.1039 |      0.0543 |     30.9869 |              4.7933 |                    1.6307 |      15.4700 | \n",
      ", best_score: 0.311055, best_iteration: 27\n",
      "    9 | 00m25s |   -0.31105 |             0.9924 |             0.3442 |      0.9916 |      0.0042 |      7.8039 |              0.4429 |                    1.6933 |      30.5977 | \n",
      ", best_score: 0.311136, best_iteration: 22\n",
      "   10 | 00m25s |   -0.31114 |             0.9510 |             0.5248 |      0.9410 |      0.1655 |     30.1863 |              0.0274 |                    0.7117 |      30.6314 | \n"
     ]
    },
    {
     "name": "stderr",
     "output_type": "stream",
     "text": [
      "C:\\Users\\cb7vm\\AppData\\Local\\Continuum\\anaconda3\\lib\\site-packages\\sklearn\\gaussian_process\\gpr.py:457: UserWarning: fmin_l_bfgs_b terminated abnormally with the  state: {'grad': array([-0.0007402]), 'task': b'ABNORMAL_TERMINATION_IN_LNSRCH', 'funcalls': 66, 'nit': 7, 'warnflag': 2}\n",
      "  \" state: %s\" % convergence_dict)\n",
      "C:\\Users\\cb7vm\\AppData\\Local\\Continuum\\anaconda3\\lib\\site-packages\\sklearn\\gaussian_process\\gpr.py:457: UserWarning: fmin_l_bfgs_b terminated abnormally with the  state: {'grad': array([-4.40700069e-05]), 'task': b'ABNORMAL_TERMINATION_IN_LNSRCH', 'funcalls': 54, 'nit': 5, 'warnflag': 2}\n",
      "  \" state: %s\" % convergence_dict)\n",
      "C:\\Users\\cb7vm\\AppData\\Local\\Continuum\\anaconda3\\lib\\site-packages\\sklearn\\gaussian_process\\gpr.py:457: UserWarning: fmin_l_bfgs_b terminated abnormally with the  state: {'grad': array([0.00066809]), 'task': b'ABNORMAL_TERMINATION_IN_LNSRCH', 'funcalls': 60, 'nit': 7, 'warnflag': 2}\n",
      "  \" state: %s\" % convergence_dict)\n"
     ]
    },
    {
     "name": "stdout",
     "output_type": "stream",
     "text": [
      ", best_score: 0.310854, best_iteration: 45\n",
      "   11 | 00m25s |   -0.31085 |             0.9740 |             0.3136 |      0.8480 |      0.0092 |     27.4073 |              2.1627 |                    1.7198 |       7.6368 | \n"
     ]
    },
    {
     "name": "stderr",
     "output_type": "stream",
     "text": [
      "C:\\Users\\cb7vm\\AppData\\Local\\Continuum\\anaconda3\\lib\\site-packages\\sklearn\\gaussian_process\\gpr.py:457: UserWarning: fmin_l_bfgs_b terminated abnormally with the  state: {'grad': array([-0.00166767]), 'task': b'ABNORMAL_TERMINATION_IN_LNSRCH', 'funcalls': 51, 'nit': 5, 'warnflag': 2}\n",
      "  \" state: %s\" % convergence_dict)\n"
     ]
    },
    {
     "name": "stdout",
     "output_type": "stream",
     "text": [
      ", best_score: 0.311106, best_iteration: 19\n",
      "   12 | 00m23s |   -0.31111 |             0.9399 |             0.5824 |      0.7554 |      0.0277 |     16.5131 |              4.7795 |                    1.4176 |      30.8562 | \n",
      ", best_score: 0.311213, best_iteration: 22\n",
      "   13 | 00m23s |   -0.31121 |             0.9134 |             0.4633 |      0.0003 |      0.1120 |     18.4690 |              0.7290 |                    0.0939 |      30.4982 | \n"
     ]
    },
    {
     "name": "stderr",
     "output_type": "stream",
     "text": [
      "C:\\Users\\cb7vm\\AppData\\Local\\Continuum\\anaconda3\\lib\\site-packages\\sklearn\\gaussian_process\\gpr.py:457: UserWarning: fmin_l_bfgs_b terminated abnormally with the  state: {'grad': array([-0.00126225]), 'task': b'ABNORMAL_TERMINATION_IN_LNSRCH', 'funcalls': 56, 'nit': 4, 'warnflag': 2}\n",
      "  \" state: %s\" % convergence_dict)\n",
      "C:\\Users\\cb7vm\\AppData\\Local\\Continuum\\anaconda3\\lib\\site-packages\\sklearn\\gaussian_process\\gpr.py:457: UserWarning: fmin_l_bfgs_b terminated abnormally with the  state: {'grad': array([0.00016248]), 'task': b'ABNORMAL_TERMINATION_IN_LNSRCH', 'funcalls': 49, 'nit': 4, 'warnflag': 2}\n",
      "  \" state: %s\" % convergence_dict)\n",
      "C:\\Users\\cb7vm\\AppData\\Local\\Continuum\\anaconda3\\lib\\site-packages\\sklearn\\gaussian_process\\gpr.py:457: UserWarning: fmin_l_bfgs_b terminated abnormally with the  state: {'grad': array([-0.00024229]), 'task': b'ABNORMAL_TERMINATION_IN_LNSRCH', 'funcalls': 87, 'nit': 8, 'warnflag': 2}\n",
      "  \" state: %s\" % convergence_dict)\n",
      "C:\\Users\\cb7vm\\AppData\\Local\\Continuum\\anaconda3\\lib\\site-packages\\sklearn\\gaussian_process\\gpr.py:457: UserWarning: fmin_l_bfgs_b terminated abnormally with the  state: {'grad': array([-6.66545238e-05]), 'task': b'ABNORMAL_TERMINATION_IN_LNSRCH', 'funcalls': 48, 'nit': 4, 'warnflag': 2}\n",
      "  \" state: %s\" % convergence_dict)\n"
     ]
    },
    {
     "name": "stdout",
     "output_type": "stream",
     "text": [
      ", best_score: 0.310426, best_iteration: 34\n",
      "   14 | 00m24s |   -0.31043 |             0.9793 |             0.5991 |      0.5431 |      0.0869 |      7.6263 |              4.7460 |                    0.2273 |       9.8466 | \n"
     ]
    },
    {
     "name": "stderr",
     "output_type": "stream",
     "text": [
      "C:\\Users\\cb7vm\\AppData\\Local\\Continuum\\anaconda3\\lib\\site-packages\\sklearn\\gaussian_process\\gpr.py:457: UserWarning: fmin_l_bfgs_b terminated abnormally with the  state: {'grad': array([-5.85374637e-05]), 'task': b'ABNORMAL_TERMINATION_IN_LNSRCH', 'funcalls': 67, 'nit': 8, 'warnflag': 2}\n",
      "  \" state: %s\" % convergence_dict)\n",
      "C:\\Users\\cb7vm\\AppData\\Local\\Continuum\\anaconda3\\lib\\site-packages\\sklearn\\gaussian_process\\gpr.py:457: UserWarning: fmin_l_bfgs_b terminated abnormally with the  state: {'grad': array([-0.00378736]), 'task': b'ABNORMAL_TERMINATION_IN_LNSRCH', 'funcalls': 48, 'nit': 5, 'warnflag': 2}\n",
      "  \" state: %s\" % convergence_dict)\n"
     ]
    },
    {
     "name": "stdout",
     "output_type": "stream",
     "text": [
      ", best_score: 0.311409, best_iteration: 26\n",
      "   15 | 00m26s |   -0.31141 |             0.9841 |             0.5249 |      0.9255 |      0.0716 |      7.7991 |              0.0099 |                    0.0846 |      20.7850 | \n"
     ]
    },
    {
     "name": "stderr",
     "output_type": "stream",
     "text": [
      "C:\\Users\\cb7vm\\AppData\\Local\\Continuum\\anaconda3\\lib\\site-packages\\sklearn\\gaussian_process\\gpr.py:457: UserWarning: fmin_l_bfgs_b terminated abnormally with the  state: {'grad': array([-3.43057327e-05]), 'task': b'ABNORMAL_TERMINATION_IN_LNSRCH', 'funcalls': 60, 'nit': 6, 'warnflag': 2}\n",
      "  \" state: %s\" % convergence_dict)\n",
      "C:\\Users\\cb7vm\\AppData\\Local\\Continuum\\anaconda3\\lib\\site-packages\\sklearn\\gaussian_process\\gpr.py:457: UserWarning: fmin_l_bfgs_b terminated abnormally with the  state: {'grad': array([-0.00035829]), 'task': b'ABNORMAL_TERMINATION_IN_LNSRCH', 'funcalls': 52, 'nit': 6, 'warnflag': 2}\n",
      "  \" state: %s\" % convergence_dict)\n",
      "C:\\Users\\cb7vm\\AppData\\Local\\Continuum\\anaconda3\\lib\\site-packages\\sklearn\\gaussian_process\\gpr.py:457: UserWarning: fmin_l_bfgs_b terminated abnormally with the  state: {'grad': array([-0.00016329]), 'task': b'ABNORMAL_TERMINATION_IN_LNSRCH', 'funcalls': 64, 'nit': 8, 'warnflag': 2}\n",
      "  \" state: %s\" % convergence_dict)\n"
     ]
    },
    {
     "name": "stdout",
     "output_type": "stream",
     "text": [
      ", best_score: 0.310761, best_iteration: 35\n",
      "   16 | 00m25s |   -0.31076 |             0.9955 |             0.5774 |      0.8370 |      0.0291 |     19.5713 |              4.6763 |                    0.0520 |       7.4512 | \n",
      ", best_score: 0.311418, best_iteration: 33\n",
      "   17 | 00m23s |   -0.31142 |             0.9138 |             0.3813 |      0.9248 |      0.6732 |      7.6298 |              4.3953 |                    0.0909 |      30.9221 | \n",
      ", best_score: 0.310887, best_iteration: 44\n",
      "   18 | 00m25s |   -0.31089 |             0.9075 |             0.4561 |      0.8220 |      0.2259 |      7.0294 |              1.2527 |                    1.7680 |       7.1149 | \n",
      ", best_score: 0.310876, best_iteration: 34\n",
      "   19 | 00m24s |   -0.31088 |             0.9539 |             0.3094 |      0.0271 |      0.5202 |      7.5438 |              4.6355 |                    1.9090 |      15.1823 | \n",
      ", best_score: 0.310590, best_iteration: 46\n",
      "   20 | 00m24s |   -0.31059 |             0.9356 |             0.3176 |      0.8855 |      0.5549 |      7.3482 |              4.6963 |                    0.1188 |       7.6593 | \n",
      ", best_score: 0.310757, best_iteration: 43\n",
      "   21 | 00m23s |   -0.31076 |             0.9301 |             0.3349 |      0.1536 |      0.1541 |      7.7616 |              4.4021 |                    0.0363 |       7.0554 | \n",
      ", best_score: 0.310934, best_iteration: 40\n",
      "   22 | 00m25s |   -0.31093 |             0.9726 |             0.3312 |      0.9691 |      0.2892 |     30.8509 |              4.6224 |                    0.4109 |      13.4983 | \n",
      ", best_score: 0.310951, best_iteration: 27\n",
      "   23 | 00m26s |   -0.31095 |             0.9899 |             0.5696 |      0.0830 |      0.8698 |      8.7385 |              0.1922 |                    1.5370 |      30.9943 | \n"
     ]
    },
    {
     "name": "stderr",
     "output_type": "stream",
     "text": [
      "C:\\Users\\cb7vm\\AppData\\Local\\Continuum\\anaconda3\\lib\\site-packages\\sklearn\\gaussian_process\\gpr.py:457: UserWarning: fmin_l_bfgs_b terminated abnormally with the  state: {'grad': array([-0.00405098]), 'task': b'ABNORMAL_TERMINATION_IN_LNSRCH', 'funcalls': 53, 'nit': 6, 'warnflag': 2}\n",
      "  \" state: %s\" % convergence_dict)\n",
      "C:\\Users\\cb7vm\\AppData\\Local\\Continuum\\anaconda3\\lib\\site-packages\\sklearn\\gaussian_process\\gpr.py:457: UserWarning: fmin_l_bfgs_b terminated abnormally with the  state: {'grad': array([-0.00549576]), 'task': b'ABNORMAL_TERMINATION_IN_LNSRCH', 'funcalls': 53, 'nit': 5, 'warnflag': 2}\n",
      "  \" state: %s\" % convergence_dict)\n"
     ]
    },
    {
     "name": "stdout",
     "output_type": "stream",
     "text": [
      ", best_score: 0.311537, best_iteration: 27\n",
      "   24 | 00m24s |   -0.31154 |             0.9029 |             0.3856 |      0.2460 |      0.7580 |     30.1646 |              4.9076 |                    1.8732 |      30.6611 | \n",
      ", best_score: 0.310551, best_iteration: 34\n",
      "   25 | 00m24s |   -0.31055 |             0.9970 |             0.5671 |      0.1823 |      0.9685 |      7.3530 |              3.9649 |                    1.6516 |       8.1355 | \n"
     ]
    },
    {
     "name": "stderr",
     "output_type": "stream",
     "text": [
      "C:\\Users\\cb7vm\\AppData\\Local\\Continuum\\anaconda3\\lib\\site-packages\\sklearn\\gaussian_process\\gpr.py:457: UserWarning: fmin_l_bfgs_b terminated abnormally with the  state: {'grad': array([3.94401141e-05]), 'task': b'ABNORMAL_TERMINATION_IN_LNSRCH', 'funcalls': 59, 'nit': 5, 'warnflag': 2}\n",
      "  \" state: %s\" % convergence_dict)\n"
     ]
    },
    {
     "name": "stdout",
     "output_type": "stream",
     "text": [
      ", best_score: 0.311508, best_iteration: 26\n",
      "   26 | 00m26s |   -0.31151 |             0.9782 |             0.4228 |      0.7337 |      0.9186 |     19.2167 |              0.4341 |                    1.8268 |      30.8915 | \n"
     ]
    },
    {
     "name": "stderr",
     "output_type": "stream",
     "text": [
      "C:\\Users\\cb7vm\\AppData\\Local\\Continuum\\anaconda3\\lib\\site-packages\\sklearn\\gaussian_process\\gpr.py:457: UserWarning: fmin_l_bfgs_b terminated abnormally with the  state: {'grad': array([6.997322e-05]), 'task': b'ABNORMAL_TERMINATION_IN_LNSRCH', 'funcalls': 51, 'nit': 5, 'warnflag': 2}\n",
      "  \" state: %s\" % convergence_dict)\n"
     ]
    },
    {
     "name": "stdout",
     "output_type": "stream",
     "text": [
      ", best_score: 0.310859, best_iteration: 29\n",
      "   27 | 00m24s |   -0.31086 |             0.9201 |             0.5414 |      0.8059 |      0.0488 |      7.6334 |              4.7368 |                    1.9542 |      10.9088 | \n"
     ]
    },
    {
     "name": "stderr",
     "output_type": "stream",
     "text": [
      "C:\\Users\\cb7vm\\AppData\\Local\\Continuum\\anaconda3\\lib\\site-packages\\sklearn\\gaussian_process\\gpr.py:457: UserWarning: fmin_l_bfgs_b terminated abnormally with the  state: {'grad': array([0.00051601]), 'task': b'ABNORMAL_TERMINATION_IN_LNSRCH', 'funcalls': 55, 'nit': 5, 'warnflag': 2}\n",
      "  \" state: %s\" % convergence_dict)\n"
     ]
    },
    {
     "name": "stdout",
     "output_type": "stream",
     "text": [
      ", best_score: 0.311562, best_iteration: 22\n",
      "   28 | 00m24s |   -0.31156 |             0.9824 |             0.5718 |      0.2694 |      0.0952 |      8.4492 |              4.9781 |                    1.9763 |      30.9413 | \n"
     ]
    },
    {
     "name": "stderr",
     "output_type": "stream",
     "text": [
      "C:\\Users\\cb7vm\\AppData\\Local\\Continuum\\anaconda3\\lib\\site-packages\\sklearn\\gaussian_process\\gpr.py:457: UserWarning: fmin_l_bfgs_b terminated abnormally with the  state: {'grad': array([0.00011794]), 'task': b'ABNORMAL_TERMINATION_IN_LNSRCH', 'funcalls': 53, 'nit': 6, 'warnflag': 2}\n",
      "  \" state: %s\" % convergence_dict)\n"
     ]
    },
    {
     "name": "stdout",
     "output_type": "stream",
     "text": [
      ", best_score: 0.311001, best_iteration: 39\n",
      "   29 | 00m25s |   -0.31100 |             0.9134 |             0.3569 |      0.0689 |      0.9103 |      7.2052 |              0.3951 |                    0.3824 |      11.4648 | \n"
     ]
    },
    {
     "name": "stderr",
     "output_type": "stream",
     "text": [
      "C:\\Users\\cb7vm\\AppData\\Local\\Continuum\\anaconda3\\lib\\site-packages\\sklearn\\gaussian_process\\gpr.py:457: UserWarning: fmin_l_bfgs_b terminated abnormally with the  state: {'grad': array([-0.00021232]), 'task': b'ABNORMAL_TERMINATION_IN_LNSRCH', 'funcalls': 56, 'nit': 7, 'warnflag': 2}\n",
      "  \" state: %s\" % convergence_dict)\n"
     ]
    },
    {
     "name": "stdout",
     "output_type": "stream",
     "text": [
      ", best_score: 0.310814, best_iteration: 28\n",
      "   30 | 00m25s |   -0.31081 |             0.9990 |             0.5682 |      0.1625 |      0.6964 |     16.0024 |              4.5425 |                    0.4363 |      15.0121 | \n"
     ]
    },
    {
     "name": "stderr",
     "output_type": "stream",
     "text": [
      "C:\\Users\\cb7vm\\AppData\\Local\\Continuum\\anaconda3\\lib\\site-packages\\sklearn\\gaussian_process\\gpr.py:457: UserWarning: fmin_l_bfgs_b terminated abnormally with the  state: {'grad': array([3.51011913e-05]), 'task': b'ABNORMAL_TERMINATION_IN_LNSRCH', 'funcalls': 54, 'nit': 4, 'warnflag': 2}\n",
      "  \" state: %s\" % convergence_dict)\n"
     ]
    },
    {
     "name": "stdout",
     "output_type": "stream",
     "text": [
      ", best_score: 0.310797, best_iteration: 29\n",
      "   31 | 00m25s |   -0.31080 |             0.9809 |             0.5969 |      0.1653 |      0.6279 |      9.1410 |              4.1247 |                    0.0324 |      12.8069 | \n"
     ]
    },
    {
     "name": "stderr",
     "output_type": "stream",
     "text": [
      "C:\\Users\\cb7vm\\AppData\\Local\\Continuum\\anaconda3\\lib\\site-packages\\sklearn\\gaussian_process\\gpr.py:457: UserWarning: fmin_l_bfgs_b terminated abnormally with the  state: {'grad': array([5.28311357e-05]), 'task': b'ABNORMAL_TERMINATION_IN_LNSRCH', 'funcalls': 54, 'nit': 6, 'warnflag': 2}\n",
      "  \" state: %s\" % convergence_dict)\n",
      "C:\\Users\\cb7vm\\AppData\\Local\\Continuum\\anaconda3\\lib\\site-packages\\sklearn\\gaussian_process\\gpr.py:457: UserWarning: fmin_l_bfgs_b terminated abnormally with the  state: {'grad': array([-0.00504788]), 'task': b'ABNORMAL_TERMINATION_IN_LNSRCH', 'funcalls': 54, 'nit': 5, 'warnflag': 2}\n",
      "  \" state: %s\" % convergence_dict)\n"
     ]
    },
    {
     "name": "stdout",
     "output_type": "stream",
     "text": [
      ", best_score: 0.310910, best_iteration: 29\n",
      "   32 | 00m26s |   -0.31091 |             0.9845 |             0.5848 |      0.1471 |      0.0350 |     23.0004 |              0.3798 |                    1.9282 |      14.7520 | \n"
     ]
    },
    {
     "name": "stderr",
     "output_type": "stream",
     "text": [
      "C:\\Users\\cb7vm\\AppData\\Local\\Continuum\\anaconda3\\lib\\site-packages\\sklearn\\gaussian_process\\gpr.py:457: UserWarning: fmin_l_bfgs_b terminated abnormally with the  state: {'grad': array([-0.00674298]), 'task': b'ABNORMAL_TERMINATION_IN_LNSRCH', 'funcalls': 62, 'nit': 7, 'warnflag': 2}\n",
      "  \" state: %s\" % convergence_dict)\n"
     ]
    },
    {
     "name": "stdout",
     "output_type": "stream",
     "text": [
      ", best_score: 0.310596, best_iteration: 39\n",
      "   33 | 00m26s |   -0.31060 |             0.9769 |             0.4905 |      0.2337 |      0.4995 |     27.2753 |              4.7467 |                    0.1418 |       8.1302 | \n",
      ", best_score: 0.310844, best_iteration: 28\n",
      "   34 | 00m25s |   -0.31084 |             0.9436 |             0.5787 |      0.7085 |      0.2310 |     22.8933 |              4.8041 |                    0.1172 |      14.8609 | \n",
      ", best_score: 0.310730, best_iteration: 42\n",
      "   35 | 00m25s |   -0.31073 |             0.9849 |             0.3079 |      0.9759 |      0.4536 |      7.5251 |              2.7691 |                    0.1865 |       8.1515 | \n"
     ]
    },
    {
     "name": "stderr",
     "output_type": "stream",
     "text": [
      "C:\\Users\\cb7vm\\AppData\\Local\\Continuum\\anaconda3\\lib\\site-packages\\sklearn\\gaussian_process\\gpr.py:457: UserWarning: fmin_l_bfgs_b terminated abnormally with the  state: {'grad': array([4.42694873e-05]), 'task': b'ABNORMAL_TERMINATION_IN_LNSRCH', 'funcalls': 55, 'nit': 6, 'warnflag': 2}\n",
      "  \" state: %s\" % convergence_dict)\n"
     ]
    },
    {
     "name": "stdout",
     "output_type": "stream",
     "text": [
      ", best_score: 0.310805, best_iteration: 31\n",
      "   36 | 00m28s |   -0.31080 |             0.9819 |             0.5016 |      0.8955 |      0.3608 |      7.0549 |              3.7063 |                    0.4744 |       9.7815 | \n"
     ]
    },
    {
     "name": "stderr",
     "output_type": "stream",
     "text": [
      "C:\\Users\\cb7vm\\AppData\\Local\\Continuum\\anaconda3\\lib\\site-packages\\sklearn\\gaussian_process\\gpr.py:457: UserWarning: fmin_l_bfgs_b terminated abnormally with the  state: {'grad': array([-0.00024753]), 'task': b'ABNORMAL_TERMINATION_IN_LNSRCH', 'funcalls': 66, 'nit': 8, 'warnflag': 2}\n",
      "  \" state: %s\" % convergence_dict)\n",
      "C:\\Users\\cb7vm\\AppData\\Local\\Continuum\\anaconda3\\lib\\site-packages\\sklearn\\gaussian_process\\gpr.py:457: UserWarning: fmin_l_bfgs_b terminated abnormally with the  state: {'grad': array([-0.00944975]), 'task': b'ABNORMAL_TERMINATION_IN_LNSRCH', 'funcalls': 74, 'nit': 7, 'warnflag': 2}\n",
      "  \" state: %s\" % convergence_dict)\n",
      "C:\\Users\\cb7vm\\AppData\\Local\\Continuum\\anaconda3\\lib\\site-packages\\sklearn\\gaussian_process\\gpr.py:457: UserWarning: fmin_l_bfgs_b terminated abnormally with the  state: {'grad': array([-0.00962618]), 'task': b'ABNORMAL_TERMINATION_IN_LNSRCH', 'funcalls': 65, 'nit': 4, 'warnflag': 2}\n",
      "  \" state: %s\" % convergence_dict)\n"
     ]
    },
    {
     "name": "stdout",
     "output_type": "stream",
     "text": [
      ", best_score: 0.311085, best_iteration: 50\n",
      "   37 | 00m29s |   -0.31108 |             0.9790 |             0.4707 |      0.7741 |      0.2694 |     24.8324 |              0.0354 |                    0.0254 |       7.3041 | \n"
     ]
    },
    {
     "name": "stderr",
     "output_type": "stream",
     "text": [
      "C:\\Users\\cb7vm\\AppData\\Local\\Continuum\\anaconda3\\lib\\site-packages\\sklearn\\gaussian_process\\gpr.py:457: UserWarning: fmin_l_bfgs_b terminated abnormally with the  state: {'grad': array([0.00048034]), 'task': b'ABNORMAL_TERMINATION_IN_LNSRCH', 'funcalls': 50, 'nit': 6, 'warnflag': 2}\n",
      "  \" state: %s\" % convergence_dict)\n",
      "C:\\Users\\cb7vm\\AppData\\Local\\Continuum\\anaconda3\\lib\\site-packages\\sklearn\\gaussian_process\\gpr.py:457: UserWarning: fmin_l_bfgs_b terminated abnormally with the  state: {'grad': array([-0.00869836]), 'task': b'ABNORMAL_TERMINATION_IN_LNSRCH', 'funcalls': 58, 'nit': 6, 'warnflag': 2}\n",
      "  \" state: %s\" % convergence_dict)\n"
     ]
    },
    {
     "name": "stdout",
     "output_type": "stream",
     "text": [
      ", best_score: 0.310771, best_iteration: 53\n",
      "   38 | 00m30s |   -0.31077 |             0.9694 |             0.4443 |      0.9903 |      0.8284 |     10.8616 |              0.4628 |                    1.9732 |       7.1320 | \n"
     ]
    },
    {
     "name": "stderr",
     "output_type": "stream",
     "text": [
      "C:\\Users\\cb7vm\\AppData\\Local\\Continuum\\anaconda3\\lib\\site-packages\\sklearn\\gaussian_process\\gpr.py:457: UserWarning: fmin_l_bfgs_b terminated abnormally with the  state: {'grad': array([-0.00042925]), 'task': b'ABNORMAL_TERMINATION_IN_LNSRCH', 'funcalls': 54, 'nit': 6, 'warnflag': 2}\n",
      "  \" state: %s\" % convergence_dict)\n",
      "C:\\Users\\cb7vm\\AppData\\Local\\Continuum\\anaconda3\\lib\\site-packages\\sklearn\\gaussian_process\\gpr.py:457: UserWarning: fmin_l_bfgs_b terminated abnormally with the  state: {'grad': array([-1.640954e-05]), 'task': b'ABNORMAL_TERMINATION_IN_LNSRCH', 'funcalls': 55, 'nit': 5, 'warnflag': 2}\n",
      "  \" state: %s\" % convergence_dict)\n"
     ]
    },
    {
     "name": "stdout",
     "output_type": "stream",
     "text": [
      ", best_score: 0.311015, best_iteration: 40\n",
      "   39 | 00m28s |   -0.31101 |             0.9871 |             0.3389 |      0.2055 |      0.0802 |     17.3782 |              4.4394 |                    1.4095 |      10.4325 | \n"
     ]
    },
    {
     "name": "stderr",
     "output_type": "stream",
     "text": [
      "C:\\Users\\cb7vm\\AppData\\Local\\Continuum\\anaconda3\\lib\\site-packages\\sklearn\\gaussian_process\\gpr.py:457: UserWarning: fmin_l_bfgs_b terminated abnormally with the  state: {'grad': array([-0.0004727]), 'task': b'ABNORMAL_TERMINATION_IN_LNSRCH', 'funcalls': 54, 'nit': 6, 'warnflag': 2}\n",
      "  \" state: %s\" % convergence_dict)\n",
      "C:\\Users\\cb7vm\\AppData\\Local\\Continuum\\anaconda3\\lib\\site-packages\\sklearn\\gaussian_process\\gpr.py:457: UserWarning: fmin_l_bfgs_b terminated abnormally with the  state: {'grad': array([-1.91568397e-05]), 'task': b'ABNORMAL_TERMINATION_IN_LNSRCH', 'funcalls': 74, 'nit': 7, 'warnflag': 2}\n",
      "  \" state: %s\" % convergence_dict)\n",
      "C:\\Users\\cb7vm\\AppData\\Local\\Continuum\\anaconda3\\lib\\site-packages\\sklearn\\gaussian_process\\gpr.py:457: UserWarning: fmin_l_bfgs_b terminated abnormally with the  state: {'grad': array([-0.00052417]), 'task': b'ABNORMAL_TERMINATION_IN_LNSRCH', 'funcalls': 58, 'nit': 5, 'warnflag': 2}\n",
      "  \" state: %s\" % convergence_dict)\n",
      "C:\\Users\\cb7vm\\AppData\\Local\\Continuum\\anaconda3\\lib\\site-packages\\sklearn\\gaussian_process\\gpr.py:457: UserWarning: fmin_l_bfgs_b terminated abnormally with the  state: {'grad': array([6.27744012e-05]), 'task': b'ABNORMAL_TERMINATION_IN_LNSRCH', 'funcalls': 67, 'nit': 7, 'warnflag': 2}\n",
      "  \" state: %s\" % convergence_dict)\n"
     ]
    },
    {
     "name": "stdout",
     "output_type": "stream",
     "text": [
      ", best_score: 0.310630, best_iteration: 51\n",
      "   40 | 00m30s |   -0.31063 |             0.9994 |             0.3373 |      0.5458 |      0.6692 |      7.1067 |              0.0136 |                    1.9919 |       7.4071 | \n"
     ]
    },
    {
     "name": "stderr",
     "output_type": "stream",
     "text": [
      "C:\\Users\\cb7vm\\AppData\\Local\\Continuum\\anaconda3\\lib\\site-packages\\sklearn\\gaussian_process\\gpr.py:457: UserWarning: fmin_l_bfgs_b terminated abnormally with the  state: {'grad': array([-0.006342]), 'task': b'ABNORMAL_TERMINATION_IN_LNSRCH', 'funcalls': 54, 'nit': 7, 'warnflag': 2}\n",
      "  \" state: %s\" % convergence_dict)\n",
      "C:\\Users\\cb7vm\\AppData\\Local\\Continuum\\anaconda3\\lib\\site-packages\\sklearn\\gaussian_process\\gpr.py:457: UserWarning: fmin_l_bfgs_b terminated abnormally with the  state: {'grad': array([0.00041853]), 'task': b'ABNORMAL_TERMINATION_IN_LNSRCH', 'funcalls': 54, 'nit': 7, 'warnflag': 2}\n",
      "  \" state: %s\" % convergence_dict)\n",
      "C:\\Users\\cb7vm\\AppData\\Local\\Continuum\\anaconda3\\lib\\site-packages\\sklearn\\gaussian_process\\gpr.py:457: UserWarning: fmin_l_bfgs_b terminated abnormally with the  state: {'grad': array([-2.937094e-05]), 'task': b'ABNORMAL_TERMINATION_IN_LNSRCH', 'funcalls': 71, 'nit': 6, 'warnflag': 2}\n",
      "  \" state: %s\" % convergence_dict)\n"
     ]
    },
    {
     "name": "stdout",
     "output_type": "stream",
     "text": [
      ", best_score: 0.311000, best_iteration: 34\n",
      "   41 | 00m26s |   -0.31100 |             0.9379 |             0.3833 |      0.5067 |      0.0036 |     13.9561 |              4.8771 |                    0.6041 |      23.8612 | \n"
     ]
    },
    {
     "name": "stderr",
     "output_type": "stream",
     "text": [
      "C:\\Users\\cb7vm\\AppData\\Local\\Continuum\\anaconda3\\lib\\site-packages\\sklearn\\gaussian_process\\gpr.py:457: UserWarning: fmin_l_bfgs_b terminated abnormally with the  state: {'grad': array([3.01441178e-05]), 'task': b'ABNORMAL_TERMINATION_IN_LNSRCH', 'funcalls': 61, 'nit': 8, 'warnflag': 2}\n",
      "  \" state: %s\" % convergence_dict)\n",
      "C:\\Users\\cb7vm\\AppData\\Local\\Continuum\\anaconda3\\lib\\site-packages\\sklearn\\gaussian_process\\gpr.py:457: UserWarning: fmin_l_bfgs_b terminated abnormally with the  state: {'grad': array([-0.0046947]), 'task': b'ABNORMAL_TERMINATION_IN_LNSRCH', 'funcalls': 78, 'nit': 7, 'warnflag': 2}\n",
      "  \" state: %s\" % convergence_dict)\n"
     ]
    },
    {
     "name": "stdout",
     "output_type": "stream",
     "text": [
      ", best_score: 0.311162, best_iteration: 29\n",
      "   42 | 00m28s |   -0.31116 |             0.9808 |             0.5706 |      0.3163 |      0.0819 |      8.4249 |              0.1402 |                    0.6009 |       9.0837 | \n"
     ]
    },
    {
     "name": "stderr",
     "output_type": "stream",
     "text": [
      "C:\\Users\\cb7vm\\AppData\\Local\\Continuum\\anaconda3\\lib\\site-packages\\sklearn\\gaussian_process\\gpr.py:457: UserWarning: fmin_l_bfgs_b terminated abnormally with the  state: {'grad': array([-0.0062916]), 'task': b'ABNORMAL_TERMINATION_IN_LNSRCH', 'funcalls': 63, 'nit': 6, 'warnflag': 2}\n",
      "  \" state: %s\" % convergence_dict)\n",
      "C:\\Users\\cb7vm\\AppData\\Local\\Continuum\\anaconda3\\lib\\site-packages\\sklearn\\gaussian_process\\gpr.py:457: UserWarning: fmin_l_bfgs_b terminated abnormally with the  state: {'grad': array([-4.18790441e-05]), 'task': b'ABNORMAL_TERMINATION_IN_LNSRCH', 'funcalls': 89, 'nit': 10, 'warnflag': 2}\n",
      "  \" state: %s\" % convergence_dict)\n",
      "C:\\Users\\cb7vm\\AppData\\Local\\Continuum\\anaconda3\\lib\\site-packages\\sklearn\\gaussian_process\\gpr.py:457: UserWarning: fmin_l_bfgs_b terminated abnormally with the  state: {'grad': array([-0.00032513]), 'task': b'ABNORMAL_TERMINATION_IN_LNSRCH', 'funcalls': 66, 'nit': 7, 'warnflag': 2}\n",
      "  \" state: %s\" % convergence_dict)\n"
     ]
    },
    {
     "name": "stdout",
     "output_type": "stream",
     "text": [
      ", best_score: 0.311185, best_iteration: 39\n",
      "   43 | 00m30s |   -0.31118 |             0.9230 |             0.3663 |      0.0011 |      0.0906 |     27.7683 |              0.1306 |                    1.9183 |      26.2029 | \n"
     ]
    },
    {
     "name": "stderr",
     "output_type": "stream",
     "text": [
      "C:\\Users\\cb7vm\\AppData\\Local\\Continuum\\anaconda3\\lib\\site-packages\\sklearn\\gaussian_process\\gpr.py:457: UserWarning: fmin_l_bfgs_b terminated abnormally with the  state: {'grad': array([-0.02547569]), 'task': b'ABNORMAL_TERMINATION_IN_LNSRCH', 'funcalls': 51, 'nit': 5, 'warnflag': 2}\n",
      "  \" state: %s\" % convergence_dict)\n",
      "C:\\Users\\cb7vm\\AppData\\Local\\Continuum\\anaconda3\\lib\\site-packages\\sklearn\\gaussian_process\\gpr.py:457: UserWarning: fmin_l_bfgs_b terminated abnormally with the  state: {'grad': array([-0.0130975]), 'task': b'ABNORMAL_TERMINATION_IN_LNSRCH', 'funcalls': 69, 'nit': 5, 'warnflag': 2}\n",
      "  \" state: %s\" % convergence_dict)\n",
      "C:\\Users\\cb7vm\\AppData\\Local\\Continuum\\anaconda3\\lib\\site-packages\\sklearn\\gaussian_process\\gpr.py:457: UserWarning: fmin_l_bfgs_b terminated abnormally with the  state: {'grad': array([-0.0009433]), 'task': b'ABNORMAL_TERMINATION_IN_LNSRCH', 'funcalls': 65, 'nit': 6, 'warnflag': 2}\n",
      "  \" state: %s\" % convergence_dict)\n",
      "C:\\Users\\cb7vm\\AppData\\Local\\Continuum\\anaconda3\\lib\\site-packages\\sklearn\\gaussian_process\\gpr.py:457: UserWarning: fmin_l_bfgs_b terminated abnormally with the  state: {'grad': array([-0.00385779]), 'task': b'ABNORMAL_TERMINATION_IN_LNSRCH', 'funcalls': 48, 'nit': 2, 'warnflag': 2}\n",
      "  \" state: %s\" % convergence_dict)\n",
      "C:\\Users\\cb7vm\\AppData\\Local\\Continuum\\anaconda3\\lib\\site-packages\\sklearn\\gaussian_process\\gpr.py:457: UserWarning: fmin_l_bfgs_b terminated abnormally with the  state: {'grad': array([-0.00077349]), 'task': b'ABNORMAL_TERMINATION_IN_LNSRCH', 'funcalls': 57, 'nit': 6, 'warnflag': 2}\n",
      "  \" state: %s\" % convergence_dict)\n"
     ]
    },
    {
     "name": "stdout",
     "output_type": "stream",
     "text": [
      ", best_score: 0.311016, best_iteration: 23\n",
      "   44 | 00m29s |   -0.31102 |             0.9557 |             0.4453 |      0.0525 |      0.2024 |      7.0153 |              0.4051 |                    0.3634 |      30.2483 | \n"
     ]
    },
    {
     "name": "stderr",
     "output_type": "stream",
     "text": [
      "C:\\Users\\cb7vm\\AppData\\Local\\Continuum\\anaconda3\\lib\\site-packages\\sklearn\\gaussian_process\\gpr.py:457: UserWarning: fmin_l_bfgs_b terminated abnormally with the  state: {'grad': array([-0.00578325]), 'task': b'ABNORMAL_TERMINATION_IN_LNSRCH', 'funcalls': 49, 'nit': 3, 'warnflag': 2}\n",
      "  \" state: %s\" % convergence_dict)\n",
      "C:\\Users\\cb7vm\\AppData\\Local\\Continuum\\anaconda3\\lib\\site-packages\\sklearn\\gaussian_process\\gpr.py:457: UserWarning: fmin_l_bfgs_b terminated abnormally with the  state: {'grad': array([-0.01597998]), 'task': b'ABNORMAL_TERMINATION_IN_LNSRCH', 'funcalls': 76, 'nit': 8, 'warnflag': 2}\n",
      "  \" state: %s\" % convergence_dict)\n"
     ]
    },
    {
     "name": "stdout",
     "output_type": "stream",
     "text": [
      ", best_score: 0.310878, best_iteration: 36\n",
      "   45 | 00m28s |   -0.31088 |             0.9134 |             0.5280 |      0.8838 |      0.0198 |     29.6253 |              3.6698 |                    0.0110 |      10.0970 | \n"
     ]
    },
    {
     "name": "stderr",
     "output_type": "stream",
     "text": [
      "C:\\Users\\cb7vm\\AppData\\Local\\Continuum\\anaconda3\\lib\\site-packages\\sklearn\\gaussian_process\\gpr.py:457: UserWarning: fmin_l_bfgs_b terminated abnormally with the  state: {'grad': array([-0.00510502]), 'task': b'ABNORMAL_TERMINATION_IN_LNSRCH', 'funcalls': 52, 'nit': 5, 'warnflag': 2}\n",
      "  \" state: %s\" % convergence_dict)\n",
      "C:\\Users\\cb7vm\\AppData\\Local\\Continuum\\anaconda3\\lib\\site-packages\\sklearn\\gaussian_process\\gpr.py:457: UserWarning: fmin_l_bfgs_b terminated abnormally with the  state: {'grad': array([-0.00038344]), 'task': b'ABNORMAL_TERMINATION_IN_LNSRCH', 'funcalls': 57, 'nit': 6, 'warnflag': 2}\n",
      "  \" state: %s\" % convergence_dict)\n",
      "C:\\Users\\cb7vm\\AppData\\Local\\Continuum\\anaconda3\\lib\\site-packages\\sklearn\\gaussian_process\\gpr.py:457: UserWarning: fmin_l_bfgs_b terminated abnormally with the  state: {'grad': array([-0.01036175]), 'task': b'ABNORMAL_TERMINATION_IN_LNSRCH', 'funcalls': 52, 'nit': 4, 'warnflag': 2}\n",
      "  \" state: %s\" % convergence_dict)\n"
     ]
    }
   ],
   "source": [
    "from bayes_opt import BayesianOptimization\n",
    "\n",
    "\n",
    "def lgb_evaluate(\n",
    "    num_leaves,\n",
    "    max_depth,\n",
    "    min_sum_hessian_in_leaf,\n",
    "    min_gain_to_split,\n",
    "    feature_fraction,\n",
    "    bagging_fraction,\n",
    "    lambda_l2,\n",
    "    lambda_l1\n",
    "):\n",
    "    params = dict()\n",
    "    params['objective'] = 'regression'\n",
    "    params['learning_rate'] = 0.05\n",
    "    params['seed'] = 1234\n",
    "    params['num_leaves'] = int(num_leaves)\n",
    "    params['max_depth'] = int(max_depth)\n",
    "    params['min_sum_hessian_in_leaf'] = int(min_sum_hessian_in_leaf)\n",
    "    params['min_gain_to_split'] = min_gain_to_split\n",
    "    params['feature_fraction'] = feature_fraction\n",
    "    params['bagging_fraction'] = bagging_fraction\n",
    "    params['bagging_freq'] = 1\n",
    "    params['lambda_l2'] = lambda_l2\n",
    "    params['lambda_l1'] = lambda_l1\n",
    "    params[\"metric\"] = 'rmse'\n",
    "\n",
    "    lgb_cv = lgb.cv(params,\n",
    "                    lgb.Dataset(train_x,\n",
    "                                label=train_y\n",
    "                                ),\n",
    "                    num_boost_round=100000,\n",
    "                    nfold=kfolds,\n",
    "                    folds=skf.split(train_x, train_y_dummy),\n",
    "                    early_stopping_rounds=50,\n",
    "                    verbose_eval=500)\n",
    "\n",
    "    best_lgb_score = min(lgb_cv['rmse-mean'])\n",
    "    best_lgb_iteration = len(lgb_cv['rmse-mean'])\n",
    "    print(', best_score: %f, best_iteration: %d' %\n",
    "          (best_lgb_score, best_lgb_iteration))\n",
    "\n",
    "    return -best_lgb_score\n",
    "\n",
    "\n",
    "lgb_BO = BayesianOptimization(lgb_evaluate,\n",
    "                              {\n",
    "                                  'num_leaves': (7, 31),\n",
    "                                  'max_depth': (7, 31),\n",
    "                                  'min_sum_hessian_in_leaf': (0, 2),\n",
    "                                  'min_gain_to_split': (0, 5),\n",
    "                                  'feature_fraction': (0.3, 0.6),\n",
    "                                  'bagging_fraction': (0.9, 1),\n",
    "                                  'lambda_l2': (0, 1),\n",
    "                                  'lambda_l1': (0, 1)\n",
    "                              }\n",
    "                              )\n",
    "\n",
    "lgb_BO.maximize(init_points=5, n_iter=40)"
   ]
  },
  {
   "cell_type": "markdown",
   "metadata": {},
   "source": [
    "##### Display automated tuning results"
   ]
  },
  {
   "cell_type": "code",
   "execution_count": 32,
   "metadata": {},
   "outputs": [
    {
     "data": {
      "text/html": [
       "<div>\n",
       "<style scoped>\n",
       "    .dataframe tbody tr th:only-of-type {\n",
       "        vertical-align: middle;\n",
       "    }\n",
       "\n",
       "    .dataframe tbody tr th {\n",
       "        vertical-align: top;\n",
       "    }\n",
       "\n",
       "    .dataframe thead th {\n",
       "        text-align: right;\n",
       "    }\n",
       "</style>\n",
       "<table border=\"1\" class=\"dataframe\">\n",
       "  <thead>\n",
       "    <tr style=\"text-align: right;\">\n",
       "      <th></th>\n",
       "      <th>bagging_fraction</th>\n",
       "      <th>feature_fraction</th>\n",
       "      <th>lambda_l1</th>\n",
       "      <th>lambda_l2</th>\n",
       "      <th>max_depth</th>\n",
       "      <th>min_gain_to_split</th>\n",
       "      <th>min_sum_hessian_in_leaf</th>\n",
       "      <th>num_leaves</th>\n",
       "      <th>score</th>\n",
       "    </tr>\n",
       "  </thead>\n",
       "  <tbody>\n",
       "    <tr>\n",
       "      <th>0</th>\n",
       "      <td>0.960732</td>\n",
       "      <td>0.459447</td>\n",
       "      <td>0.735415</td>\n",
       "      <td>0.178765</td>\n",
       "      <td>29.940490</td>\n",
       "      <td>4.890276</td>\n",
       "      <td>0.091817</td>\n",
       "      <td>7.015328</td>\n",
       "      <td>-0.310409</td>\n",
       "    </tr>\n",
       "    <tr>\n",
       "      <th>8</th>\n",
       "      <td>0.979340</td>\n",
       "      <td>0.599100</td>\n",
       "      <td>0.543076</td>\n",
       "      <td>0.086898</td>\n",
       "      <td>7.626286</td>\n",
       "      <td>4.745991</td>\n",
       "      <td>0.227268</td>\n",
       "      <td>9.846632</td>\n",
       "      <td>-0.310426</td>\n",
       "    </tr>\n",
       "    <tr>\n",
       "      <th>19</th>\n",
       "      <td>0.996953</td>\n",
       "      <td>0.567112</td>\n",
       "      <td>0.182347</td>\n",
       "      <td>0.968530</td>\n",
       "      <td>7.353044</td>\n",
       "      <td>3.964879</td>\n",
       "      <td>1.651617</td>\n",
       "      <td>8.135507</td>\n",
       "      <td>-0.310551</td>\n",
       "    </tr>\n",
       "    <tr>\n",
       "      <th>14</th>\n",
       "      <td>0.935609</td>\n",
       "      <td>0.317596</td>\n",
       "      <td>0.885520</td>\n",
       "      <td>0.554937</td>\n",
       "      <td>7.348190</td>\n",
       "      <td>4.696261</td>\n",
       "      <td>0.118799</td>\n",
       "      <td>7.659261</td>\n",
       "      <td>-0.310590</td>\n",
       "    </tr>\n",
       "    <tr>\n",
       "      <th>27</th>\n",
       "      <td>0.976859</td>\n",
       "      <td>0.490475</td>\n",
       "      <td>0.233653</td>\n",
       "      <td>0.499533</td>\n",
       "      <td>27.275256</td>\n",
       "      <td>4.746707</td>\n",
       "      <td>0.141809</td>\n",
       "      <td>8.130215</td>\n",
       "      <td>-0.310596</td>\n",
       "    </tr>\n",
       "  </tbody>\n",
       "</table>\n",
       "</div>"
      ],
      "text/plain": [
       "    bagging_fraction  feature_fraction  lambda_l1  lambda_l2  max_depth  \\\n",
       "0           0.960732          0.459447   0.735415   0.178765  29.940490   \n",
       "8           0.979340          0.599100   0.543076   0.086898   7.626286   \n",
       "19          0.996953          0.567112   0.182347   0.968530   7.353044   \n",
       "14          0.935609          0.317596   0.885520   0.554937   7.348190   \n",
       "27          0.976859          0.490475   0.233653   0.499533  27.275256   \n",
       "\n",
       "    min_gain_to_split  min_sum_hessian_in_leaf  num_leaves     score  \n",
       "0            4.890276                 0.091817    7.015328 -0.310409  \n",
       "8            4.745991                 0.227268    9.846632 -0.310426  \n",
       "19           3.964879                 1.651617    8.135507 -0.310551  \n",
       "14           4.696261                 0.118799    7.659261 -0.310590  \n",
       "27           4.746707                 0.141809    8.130215 -0.310596  "
      ]
     },
     "execution_count": 32,
     "metadata": {},
     "output_type": "execute_result"
    }
   ],
   "source": [
    "# gc.collect()\n",
    "\n",
    "lgb_BO_scores = pd.DataFrame(lgb_BO.res['all']['params'])\n",
    "lgb_BO_scores['score'] = pd.DataFrame(lgb_BO.res['all']['values'])\n",
    "lgb_BO_scores = lgb_BO_scores.sort_values(by='score',ascending=False)\n",
    "\n",
    "lgb_BO_scores.to_csv(\"../python/tuned_lgb_parameters.csv\", index=False)\n",
    "lgb_BO_scores.head()"
   ]
  },
  {
   "cell_type": "markdown",
   "metadata": {},
   "source": [
    "##### Retrain the model with smaller learning rate "
   ]
  },
  {
   "cell_type": "code",
   "execution_count": 33,
   "metadata": {},
   "outputs": [
    {
     "name": "stdout",
     "output_type": "stream",
     "text": [
      "{'objective': 'regression', 'metric': 'rmse', 'learning_rate': 0.05, 'num_leaves': 7, 'max_depth': 29, 'min_sum_hessian_in_leaf': 0, 'min_gain_to_split': 4.890276095799749, 'feature_fraction': 0.4594465361933296, 'bagging_fraction': 0.9607324493788795, 'bagging_freq': 1, 'lambda_l2': 0.17876481733810545, 'lambda_l1': 0.7354145488251757, 'seed': 1234}\n",
      ", best_score: 0.310409, best_iteration: 43\n"
     ]
    }
   ],
   "source": [
    "params = lgb_BO_scores.iloc[0].to_dict()\n",
    "best_auto_lgb_params = dict()\n",
    "best_auto_lgb_params['objective'] = 'regression'\n",
    "best_auto_lgb_params[\"metric\"] = 'rmse'\n",
    "best_auto_lgb_params['learning_rate'] = 0.05 # Smaller learning rate\n",
    "best_auto_lgb_params['num_leaves'] = int(params['num_leaves'])    \n",
    "best_auto_lgb_params['max_depth'] = int(params['max_depth'])    \n",
    "best_auto_lgb_params['min_sum_hessian_in_leaf'] = int(params['min_sum_hessian_in_leaf'])\n",
    "best_auto_lgb_params['min_gain_to_split'] = params['min_gain_to_split']     \n",
    "best_auto_lgb_params['feature_fraction'] = params['feature_fraction']\n",
    "best_auto_lgb_params['bagging_fraction'] = params['bagging_fraction']\n",
    "best_auto_lgb_params['bagging_freq'] = 1\n",
    "best_auto_lgb_params['lambda_l2'] = params['lambda_l2']\n",
    "best_auto_lgb_params['lambda_l1'] = params['lambda_l1']\n",
    "best_auto_lgb_params['seed'] = 1234\n",
    "\n",
    "\n",
    "print (best_auto_lgb_params)\n",
    "\n",
    "\n",
    "lgb_cv = lgb.cv(best_auto_lgb_params,\n",
    "            lgb.Dataset(train_x,\n",
    "                        label=train_y\n",
    "                        ),\n",
    "            num_boost_round=100000,\n",
    "            nfold=kfolds,\n",
    "            folds=skf.split(train_x,train_y_dummy),\n",
    "            early_stopping_rounds=50,\n",
    "            verbose_eval=500)\n",
    "\n",
    "best_lgb_score = min(lgb_cv['rmse-mean'])\n",
    "best_lgb_iteration = len(lgb_cv['rmse-mean'])\n",
    "print (', best_score: %f, best_iteration: %d' % (best_lgb_score, best_lgb_iteration))"
   ]
  },
  {
   "cell_type": "markdown",
   "metadata": {},
   "source": [
    "### Stacking"
   ]
  },
  {
   "cell_type": "markdown",
   "metadata": {},
   "source": [
    "#### Define stacking functions"
   ]
  },
  {
   "cell_type": "code",
   "execution_count": 34,
   "metadata": {},
   "outputs": [],
   "source": [
    "from sklearn.model_selection import StratifiedKFold, KFold \n",
    "import copy\n",
    "\n",
    "def lgb_rgr_stack(rgr_params, train_x, train_y, test_x, kfolds, early_stopping_rounds=0, train_y_dummy=None):\n",
    "\n",
    "    skf = KFold(n_splits=kfolds,random_state=1234)\n",
    "    skf_ids = list(skf.split(train_y_dummy))\n",
    "\n",
    "\n",
    "    train_blend_x = np.zeros((train_x.shape[0], len(rgr_params)))\n",
    "    test_blend_x = np.zeros((test_x.shape[0], len(rgr_params)))\n",
    "    blend_scores = np.zeros ((kfolds,len(rgr_params)))\n",
    "\n",
    "    print  (\"Start stacking.\")\n",
    "    for j, params in enumerate(rgr_params):\n",
    "        print (\"Stacking model\",j+1, params)\n",
    "        test_blend_x_j = np.zeros((test_x.shape[0]))\n",
    "        for i, (train_ids, val_ids) in enumerate(skf_ids):\n",
    "            start = time.time()\n",
    "            print (\"Model %d fold %d\" %(j+1,i+1))\n",
    "            train_x_fold = train_x[train_ids]\n",
    "            train_y_fold = train_y[train_ids]\n",
    "            val_x_fold = train_x[val_ids]\n",
    "            val_y_fold = train_y[val_ids]\n",
    "            print (i, params)\n",
    "            \n",
    "            \n",
    "            if early_stopping_rounds==0:\n",
    "                num_boost_round = copy.deepcopy(params['num_boost_round'])\n",
    "                model = lgb.train(params,\n",
    "                                    lgb.Dataset(train_x_fold, \n",
    "                                                train_y_fold\n",
    "                                               ),\n",
    "                                  num_boost_round=num_boost_round,\n",
    "                                  verbose_eval=500\n",
    "                                )\n",
    "                val_y_predict_fold = model.predict(val_x_fold)\n",
    "                score = np.sqrt(mean_squared_error(val_y_fold,val_y_predict_fold))\n",
    "                print (\"Score for Model %d fold %d: %f \" % (j+1,i+1,score))\n",
    "                blend_scores[i,j]=score\n",
    "                train_blend_x[val_ids, j] = val_y_predict_fold\n",
    "                test_blend_x_j = test_blend_x_j + model.predict(test_x)\n",
    "                print (\"Model %d fold %d finished in %d seconds.\" % (j+1,i+1, time.time()-start))\n",
    "            else:\n",
    "                model = lgb.train(params,\n",
    "                                    lgb.Dataset(train_x_fold, \n",
    "                                                train_y_fold\n",
    "                                               ),\n",
    "                                  valid_sets=[lgb.Dataset(val_x_fold, \n",
    "                                                val_y_fold\n",
    "                                                         )],\n",
    "                                  valid_names=['valid'],\n",
    "                                  num_boost_round=10000000,\n",
    "                                  early_stopping_rounds = early_stopping_rounds,\n",
    "                                  verbose_eval=500\n",
    "                                )\n",
    "                best_iteration = model.best_iteration\n",
    "                print(model.best_score['valid']['rmse'])\n",
    "                val_y_predict_fold = model.predict(val_x_fold, num_iteration=best_iteration)\n",
    "                score = np.sqrt(mean_squared_error(val_y_fold,val_y_predict_fold))\n",
    "                print (\"Score for Model %d fold %d: %f \" % (j+1,i+1,score))\n",
    "                blend_scores[i,j]=score\n",
    "                train_blend_x[val_ids, j] = val_y_predict_fold\n",
    "                test_blend_x_j = test_blend_x_j + model.predict(test_x, num_iteration=best_iteration)\n",
    "                print (\"Model %d fold %d finished in %d seconds.\" % (j+1,i+1, time.time()-start))                \n",
    "                \n",
    "        test_blend_x[:,j] = test_blend_x_j/kfolds\n",
    "        print (\"Score for model %d is %f\" % (j+1,np.mean(blend_scores[:,j])))\n",
    "    return train_blend_x, test_blend_x, blend_scores    "
   ]
  },
  {
   "cell_type": "markdown",
   "metadata": {},
   "source": [
    "#### Level 1: top 5 LightGBM models\n",
    "\n",
    "We will generate level 1 predictions using parameters of the top 5 models from automated tuning."
   ]
  },
  {
   "cell_type": "code",
   "execution_count": 35,
   "metadata": {},
   "outputs": [
    {
     "name": "stdout",
     "output_type": "stream",
     "text": [
      "[{'num_leaves': 7, 'max_depth': 29, 'min_sum_hessian_in_leaf': 0, 'min_gain_to_split': 4.890276095799749, 'feature_fraction': 0.4594465361933296, 'bagging_fraction': 0.9607324493788795, 'bagging_freq': 1, 'lambda_l2': 0.17876481733810545, 'lambda_l1': 0, 'objective': 'regression', 'learning_rate': 0.05, 'num_boost_round': 43, 'seed': 1234, 'metric': 'rmse'}, {'num_leaves': 7, 'max_depth': 30, 'min_sum_hessian_in_leaf': 0, 'min_gain_to_split': 0.28088507463544743, 'feature_fraction': 0.4880215181236464, 'bagging_fraction': 0.9728243993960635, 'bagging_freq': 1, 'lambda_l2': 0.6776167748526225, 'lambda_l1': 0, 'objective': 'regression', 'learning_rate': 0.05, 'num_boost_round': 43, 'seed': 1234, 'metric': 'rmse'}, {'num_leaves': 15, 'max_depth': 30, 'min_sum_hessian_in_leaf': 1, 'min_gain_to_split': 4.793252741174074, 'feature_fraction': 0.41975540941038303, 'bagging_fraction': 0.9414728814013633, 'bagging_freq': 1, 'lambda_l2': 0.054317568212704614, 'lambda_l1': 0, 'objective': 'regression', 'learning_rate': 0.05, 'num_boost_round': 43, 'seed': 1234, 'metric': 'rmse'}, {'num_leaves': 30, 'max_depth': 7, 'min_sum_hessian_in_leaf': 1, 'min_gain_to_split': 0.44290378736066505, 'feature_fraction': 0.34424539252359687, 'bagging_fraction': 0.9923777946926414, 'bagging_freq': 1, 'lambda_l2': 0.004170762239729009, 'lambda_l1': 0, 'objective': 'regression', 'learning_rate': 0.05, 'num_boost_round': 43, 'seed': 1234, 'metric': 'rmse'}, {'num_leaves': 30, 'max_depth': 30, 'min_sum_hessian_in_leaf': 0, 'min_gain_to_split': 0.02739651285401601, 'feature_fraction': 0.5248420272755033, 'bagging_fraction': 0.9510447498502301, 'bagging_freq': 1, 'lambda_l2': 0.1654935599240942, 'lambda_l1': 0, 'objective': 'regression', 'learning_rate': 0.05, 'num_boost_round': 43, 'seed': 1234, 'metric': 'rmse'}, {'learning_rate': 0.05, 'metric': 'rmse', 'bagging_freq': 1, 'seed': 1234, 'objective': 'regression', 'num_leaves': 3, 'max_depth': 3, 'min_gain_to_split': 1, 'feature_fraction': 0.7, 'bagging_fraction': 1, 'min_sum_hessian_in_leaf': 100, 'lambda_l2': 0.1, 'lambda_l1': 0.01}]\n"
     ]
    }
   ],
   "source": [
    "lgb_params = []\n",
    "## Top 5 auto-tuned parameters\n",
    "for i in range(5):\n",
    "    params=dict()\n",
    "    params['num_leaves'] = int(lgb_BO_scores['num_leaves'][i])\n",
    "    params['max_depth'] = int(lgb_BO_scores['max_depth'][i])\n",
    "    params['min_sum_hessian_in_leaf'] = int(lgb_BO_scores['min_sum_hessian_in_leaf'][i])\n",
    "    params['min_gain_to_split'] = lgb_BO_scores['min_gain_to_split'][i]\n",
    "    params['feature_fraction'] = lgb_BO_scores['feature_fraction'][i]\n",
    "    params['bagging_fraction'] = lgb_BO_scores['bagging_fraction'][i]\n",
    "    params['bagging_freq'] = 1\n",
    "    params['lambda_l2'] = lgb_BO_scores['lambda_l2'][i]\n",
    "    params['lambda_l1'] = int(lgb_BO_scores['lambda_l1'][i])\n",
    "    params['objective'] = 'regression'\n",
    "    params['learning_rate'] = 0.05\n",
    "    params['num_boost_round']=best_lgb_iteration\n",
    "    params['seed'] = 1234\n",
    "    params[\"metric\"] = 'rmse'\n",
    "    lgb_params.append(params)\n",
    "\n",
    "## Best manual-tuned parameters\n",
    "lgb_params.append(best_lgb_params)    \n",
    "print (lgb_params)"
   ]
  },
  {
   "cell_type": "code",
   "execution_count": 36,
   "metadata": {},
   "outputs": [
    {
     "name": "stdout",
     "output_type": "stream",
     "text": [
      "Start stacking.\n",
      "Stacking model 1 {'num_leaves': 7, 'max_depth': 29, 'min_sum_hessian_in_leaf': 0, 'min_gain_to_split': 4.890276095799749, 'feature_fraction': 0.4594465361933296, 'bagging_fraction': 0.9607324493788795, 'bagging_freq': 1, 'lambda_l2': 0.17876481733810545, 'lambda_l1': 0, 'objective': 'regression', 'learning_rate': 0.05, 'num_boost_round': 43, 'seed': 1234, 'metric': 'rmse'}\n",
      "Model 1 fold 1\n",
      "0 {'num_leaves': 7, 'max_depth': 29, 'min_sum_hessian_in_leaf': 0, 'min_gain_to_split': 4.890276095799749, 'feature_fraction': 0.4594465361933296, 'bagging_fraction': 0.9607324493788795, 'bagging_freq': 1, 'lambda_l2': 0.17876481733810545, 'lambda_l1': 0, 'objective': 'regression', 'learning_rate': 0.05, 'num_boost_round': 43, 'seed': 1234, 'metric': 'rmse'}\n"
     ]
    },
    {
     "name": "stderr",
     "output_type": "stream",
     "text": [
      "C:\\Users\\cb7vm\\AppData\\Local\\Continuum\\anaconda3\\lib\\site-packages\\lightgbm\\engine.py:116: UserWarning: Found `num_boost_round` in params. Will use it instead of argument\n",
      "  warnings.warn(\"Found `{}` in params. Will use it instead of argument\".format(alias))\n"
     ]
    },
    {
     "name": "stdout",
     "output_type": "stream",
     "text": [
      "Training until validation scores don't improve for 50 rounds.\n",
      "Did not meet early stopping. Best iteration is:\n",
      "[43]\tvalid's rmse: 0.287952\n",
      "0.2879521714946926\n",
      "Score for Model 1 fold 1: 0.287952 \n",
      "Model 1 fold 1 finished in 3 seconds.\n",
      "Model 1 fold 2\n",
      "1 {'num_leaves': 7, 'max_depth': 29, 'min_sum_hessian_in_leaf': 0, 'min_gain_to_split': 4.890276095799749, 'feature_fraction': 0.4594465361933296, 'bagging_fraction': 0.9607324493788795, 'bagging_freq': 1, 'lambda_l2': 0.17876481733810545, 'lambda_l1': 0, 'objective': 'regression', 'learning_rate': 0.05, 'num_boost_round': 43, 'seed': 1234, 'metric': 'rmse'}\n",
      "Training until validation scores don't improve for 50 rounds.\n",
      "Did not meet early stopping. Best iteration is:\n",
      "[42]\tvalid's rmse: 0.34194\n",
      "0.34193955040125734\n",
      "Score for Model 1 fold 2: 0.341940 \n",
      "Model 1 fold 2 finished in 3 seconds.\n",
      "Model 1 fold 3\n",
      "2 {'num_leaves': 7, 'max_depth': 29, 'min_sum_hessian_in_leaf': 0, 'min_gain_to_split': 4.890276095799749, 'feature_fraction': 0.4594465361933296, 'bagging_fraction': 0.9607324493788795, 'bagging_freq': 1, 'lambda_l2': 0.17876481733810545, 'lambda_l1': 0, 'objective': 'regression', 'learning_rate': 0.05, 'num_boost_round': 43, 'seed': 1234, 'metric': 'rmse'}\n",
      "Training until validation scores don't improve for 50 rounds.\n",
      "Did not meet early stopping. Best iteration is:\n",
      "[37]\tvalid's rmse: 0.297206\n",
      "0.2972061302609974\n",
      "Score for Model 1 fold 3: 0.297206 \n",
      "Model 1 fold 3 finished in 3 seconds.\n",
      "Model 1 fold 4\n",
      "3 {'num_leaves': 7, 'max_depth': 29, 'min_sum_hessian_in_leaf': 0, 'min_gain_to_split': 4.890276095799749, 'feature_fraction': 0.4594465361933296, 'bagging_fraction': 0.9607324493788795, 'bagging_freq': 1, 'lambda_l2': 0.17876481733810545, 'lambda_l1': 0, 'objective': 'regression', 'learning_rate': 0.05, 'num_boost_round': 43, 'seed': 1234, 'metric': 'rmse'}\n",
      "Training until validation scores don't improve for 50 rounds.\n",
      "Did not meet early stopping. Best iteration is:\n",
      "[33]\tvalid's rmse: 0.31971\n",
      "0.31970969394164195\n",
      "Score for Model 1 fold 4: 0.319710 \n",
      "Model 1 fold 4 finished in 3 seconds.\n",
      "Model 1 fold 5\n",
      "4 {'num_leaves': 7, 'max_depth': 29, 'min_sum_hessian_in_leaf': 0, 'min_gain_to_split': 4.890276095799749, 'feature_fraction': 0.4594465361933296, 'bagging_fraction': 0.9607324493788795, 'bagging_freq': 1, 'lambda_l2': 0.17876481733810545, 'lambda_l1': 0, 'objective': 'regression', 'learning_rate': 0.05, 'num_boost_round': 43, 'seed': 1234, 'metric': 'rmse'}\n",
      "Training until validation scores don't improve for 50 rounds.\n",
      "Did not meet early stopping. Best iteration is:\n",
      "[38]\tvalid's rmse: 0.305094\n",
      "0.3050938539191408\n",
      "Score for Model 1 fold 5: 0.305094 \n",
      "Model 1 fold 5 finished in 3 seconds.\n",
      "Score for model 1 is 0.310380\n",
      "Stacking model 2 {'num_leaves': 7, 'max_depth': 30, 'min_sum_hessian_in_leaf': 0, 'min_gain_to_split': 0.28088507463544743, 'feature_fraction': 0.4880215181236464, 'bagging_fraction': 0.9728243993960635, 'bagging_freq': 1, 'lambda_l2': 0.6776167748526225, 'lambda_l1': 0, 'objective': 'regression', 'learning_rate': 0.05, 'num_boost_round': 43, 'seed': 1234, 'metric': 'rmse'}\n",
      "Model 2 fold 1\n",
      "0 {'num_leaves': 7, 'max_depth': 30, 'min_sum_hessian_in_leaf': 0, 'min_gain_to_split': 0.28088507463544743, 'feature_fraction': 0.4880215181236464, 'bagging_fraction': 0.9728243993960635, 'bagging_freq': 1, 'lambda_l2': 0.6776167748526225, 'lambda_l1': 0, 'objective': 'regression', 'learning_rate': 0.05, 'num_boost_round': 43, 'seed': 1234, 'metric': 'rmse'}\n",
      "Training until validation scores don't improve for 50 rounds.\n",
      "Did not meet early stopping. Best iteration is:\n",
      "[29]\tvalid's rmse: 0.288174\n",
      "0.2881736995713835\n",
      "Score for Model 2 fold 1: 0.288174 \n",
      "Model 2 fold 1 finished in 3 seconds.\n",
      "Model 2 fold 2\n",
      "1 {'num_leaves': 7, 'max_depth': 30, 'min_sum_hessian_in_leaf': 0, 'min_gain_to_split': 0.28088507463544743, 'feature_fraction': 0.4880215181236464, 'bagging_fraction': 0.9728243993960635, 'bagging_freq': 1, 'lambda_l2': 0.6776167748526225, 'lambda_l1': 0, 'objective': 'regression', 'learning_rate': 0.05, 'num_boost_round': 43, 'seed': 1234, 'metric': 'rmse'}\n",
      "Training until validation scores don't improve for 50 rounds.\n",
      "Did not meet early stopping. Best iteration is:\n",
      "[39]\tvalid's rmse: 0.341182\n",
      "0.34118245190215607\n",
      "Score for Model 2 fold 2: 0.341182 \n",
      "Model 2 fold 2 finished in 3 seconds.\n",
      "Model 2 fold 3\n",
      "2 {'num_leaves': 7, 'max_depth': 30, 'min_sum_hessian_in_leaf': 0, 'min_gain_to_split': 0.28088507463544743, 'feature_fraction': 0.4880215181236464, 'bagging_fraction': 0.9728243993960635, 'bagging_freq': 1, 'lambda_l2': 0.6776167748526225, 'lambda_l1': 0, 'objective': 'regression', 'learning_rate': 0.05, 'num_boost_round': 43, 'seed': 1234, 'metric': 'rmse'}\n",
      "Training until validation scores don't improve for 50 rounds.\n",
      "Did not meet early stopping. Best iteration is:\n",
      "[37]\tvalid's rmse: 0.29754\n",
      "0.2975398659630555\n",
      "Score for Model 2 fold 3: 0.297540 \n",
      "Model 2 fold 3 finished in 3 seconds.\n",
      "Model 2 fold 4\n",
      "3 {'num_leaves': 7, 'max_depth': 30, 'min_sum_hessian_in_leaf': 0, 'min_gain_to_split': 0.28088507463544743, 'feature_fraction': 0.4880215181236464, 'bagging_fraction': 0.9728243993960635, 'bagging_freq': 1, 'lambda_l2': 0.6776167748526225, 'lambda_l1': 0, 'objective': 'regression', 'learning_rate': 0.05, 'num_boost_round': 43, 'seed': 1234, 'metric': 'rmse'}\n",
      "Training until validation scores don't improve for 50 rounds.\n",
      "Did not meet early stopping. Best iteration is:\n",
      "[43]\tvalid's rmse: 0.318876\n",
      "0.31887646564943434\n",
      "Score for Model 2 fold 4: 0.318876 \n",
      "Model 2 fold 4 finished in 3 seconds.\n",
      "Model 2 fold 5\n",
      "4 {'num_leaves': 7, 'max_depth': 30, 'min_sum_hessian_in_leaf': 0, 'min_gain_to_split': 0.28088507463544743, 'feature_fraction': 0.4880215181236464, 'bagging_fraction': 0.9728243993960635, 'bagging_freq': 1, 'lambda_l2': 0.6776167748526225, 'lambda_l1': 0, 'objective': 'regression', 'learning_rate': 0.05, 'num_boost_round': 43, 'seed': 1234, 'metric': 'rmse'}\n",
      "Training until validation scores don't improve for 50 rounds.\n",
      "Did not meet early stopping. Best iteration is:\n",
      "[35]\tvalid's rmse: 0.306128\n",
      "0.30612791268959705\n",
      "Score for Model 2 fold 5: 0.306128 \n",
      "Model 2 fold 5 finished in 3 seconds.\n",
      "Score for model 2 is 0.310380\n",
      "Stacking model 3 {'num_leaves': 15, 'max_depth': 30, 'min_sum_hessian_in_leaf': 1, 'min_gain_to_split': 4.793252741174074, 'feature_fraction': 0.41975540941038303, 'bagging_fraction': 0.9414728814013633, 'bagging_freq': 1, 'lambda_l2': 0.054317568212704614, 'lambda_l1': 0, 'objective': 'regression', 'learning_rate': 0.05, 'num_boost_round': 43, 'seed': 1234, 'metric': 'rmse'}\n",
      "Model 3 fold 1\n",
      "0 {'num_leaves': 15, 'max_depth': 30, 'min_sum_hessian_in_leaf': 1, 'min_gain_to_split': 4.793252741174074, 'feature_fraction': 0.41975540941038303, 'bagging_fraction': 0.9414728814013633, 'bagging_freq': 1, 'lambda_l2': 0.054317568212704614, 'lambda_l1': 0, 'objective': 'regression', 'learning_rate': 0.05, 'num_boost_round': 43, 'seed': 1234, 'metric': 'rmse'}\n",
      "Training until validation scores don't improve for 50 rounds.\n",
      "Did not meet early stopping. Best iteration is:\n",
      "[34]\tvalid's rmse: 0.288021\n",
      "0.28802119126960196\n",
      "Score for Model 3 fold 1: 0.288021 \n",
      "Model 3 fold 1 finished in 3 seconds.\n",
      "Model 3 fold 2\n",
      "1 {'num_leaves': 15, 'max_depth': 30, 'min_sum_hessian_in_leaf': 1, 'min_gain_to_split': 4.793252741174074, 'feature_fraction': 0.41975540941038303, 'bagging_fraction': 0.9414728814013633, 'bagging_freq': 1, 'lambda_l2': 0.054317568212704614, 'lambda_l1': 0, 'objective': 'regression', 'learning_rate': 0.05, 'num_boost_round': 43, 'seed': 1234, 'metric': 'rmse'}\n",
      "Training until validation scores don't improve for 50 rounds.\n",
      "Did not meet early stopping. Best iteration is:\n",
      "[43]\tvalid's rmse: 0.341802\n",
      "0.34180183003435577\n",
      "Score for Model 3 fold 2: 0.341802 \n",
      "Model 3 fold 2 finished in 3 seconds.\n",
      "Model 3 fold 3\n",
      "2 {'num_leaves': 15, 'max_depth': 30, 'min_sum_hessian_in_leaf': 1, 'min_gain_to_split': 4.793252741174074, 'feature_fraction': 0.41975540941038303, 'bagging_fraction': 0.9414728814013633, 'bagging_freq': 1, 'lambda_l2': 0.054317568212704614, 'lambda_l1': 0, 'objective': 'regression', 'learning_rate': 0.05, 'num_boost_round': 43, 'seed': 1234, 'metric': 'rmse'}\n",
      "Training until validation scores don't improve for 50 rounds.\n",
      "Did not meet early stopping. Best iteration is:\n",
      "[21]\tvalid's rmse: 0.297638\n",
      "0.29763804973068186\n",
      "Score for Model 3 fold 3: 0.297638 \n",
      "Model 3 fold 3 finished in 3 seconds.\n",
      "Model 3 fold 4\n"
     ]
    },
    {
     "name": "stdout",
     "output_type": "stream",
     "text": [
      "3 {'num_leaves': 15, 'max_depth': 30, 'min_sum_hessian_in_leaf': 1, 'min_gain_to_split': 4.793252741174074, 'feature_fraction': 0.41975540941038303, 'bagging_fraction': 0.9414728814013633, 'bagging_freq': 1, 'lambda_l2': 0.054317568212704614, 'lambda_l1': 0, 'objective': 'regression', 'learning_rate': 0.05, 'num_boost_round': 43, 'seed': 1234, 'metric': 'rmse'}\n",
      "Training until validation scores don't improve for 50 rounds.\n",
      "Did not meet early stopping. Best iteration is:\n",
      "[13]\tvalid's rmse: 0.320127\n",
      "0.32012739520925704\n",
      "Score for Model 3 fold 4: 0.320127 \n",
      "Model 3 fold 4 finished in 3 seconds.\n",
      "Model 3 fold 5\n",
      "4 {'num_leaves': 15, 'max_depth': 30, 'min_sum_hessian_in_leaf': 1, 'min_gain_to_split': 4.793252741174074, 'feature_fraction': 0.41975540941038303, 'bagging_fraction': 0.9414728814013633, 'bagging_freq': 1, 'lambda_l2': 0.054317568212704614, 'lambda_l1': 0, 'objective': 'regression', 'learning_rate': 0.05, 'num_boost_round': 43, 'seed': 1234, 'metric': 'rmse'}\n",
      "Training until validation scores don't improve for 50 rounds.\n",
      "Did not meet early stopping. Best iteration is:\n",
      "[43]\tvalid's rmse: 0.304573\n",
      "0.3045725208250038\n",
      "Score for Model 3 fold 5: 0.304573 \n",
      "Model 3 fold 5 finished in 3 seconds.\n",
      "Score for model 3 is 0.310432\n",
      "Stacking model 4 {'num_leaves': 30, 'max_depth': 7, 'min_sum_hessian_in_leaf': 1, 'min_gain_to_split': 0.44290378736066505, 'feature_fraction': 0.34424539252359687, 'bagging_fraction': 0.9923777946926414, 'bagging_freq': 1, 'lambda_l2': 0.004170762239729009, 'lambda_l1': 0, 'objective': 'regression', 'learning_rate': 0.05, 'num_boost_round': 43, 'seed': 1234, 'metric': 'rmse'}\n",
      "Model 4 fold 1\n",
      "0 {'num_leaves': 30, 'max_depth': 7, 'min_sum_hessian_in_leaf': 1, 'min_gain_to_split': 0.44290378736066505, 'feature_fraction': 0.34424539252359687, 'bagging_fraction': 0.9923777946926414, 'bagging_freq': 1, 'lambda_l2': 0.004170762239729009, 'lambda_l1': 0, 'objective': 'regression', 'learning_rate': 0.05, 'num_boost_round': 43, 'seed': 1234, 'metric': 'rmse'}\n",
      "Training until validation scores don't improve for 50 rounds.\n",
      "Did not meet early stopping. Best iteration is:\n",
      "[30]\tvalid's rmse: 0.287613\n",
      "0.2876125867398968\n",
      "Score for Model 4 fold 1: 0.287613 \n",
      "Model 4 fold 1 finished in 3 seconds.\n",
      "Model 4 fold 2\n",
      "1 {'num_leaves': 30, 'max_depth': 7, 'min_sum_hessian_in_leaf': 1, 'min_gain_to_split': 0.44290378736066505, 'feature_fraction': 0.34424539252359687, 'bagging_fraction': 0.9923777946926414, 'bagging_freq': 1, 'lambda_l2': 0.004170762239729009, 'lambda_l1': 0, 'objective': 'regression', 'learning_rate': 0.05, 'num_boost_round': 43, 'seed': 1234, 'metric': 'rmse'}\n",
      "Training until validation scores don't improve for 50 rounds.\n",
      "Did not meet early stopping. Best iteration is:\n",
      "[37]\tvalid's rmse: 0.340779\n",
      "0.34077917827878434\n",
      "Score for Model 4 fold 2: 0.340779 \n",
      "Model 4 fold 2 finished in 3 seconds.\n",
      "Model 4 fold 3\n",
      "2 {'num_leaves': 30, 'max_depth': 7, 'min_sum_hessian_in_leaf': 1, 'min_gain_to_split': 0.44290378736066505, 'feature_fraction': 0.34424539252359687, 'bagging_fraction': 0.9923777946926414, 'bagging_freq': 1, 'lambda_l2': 0.004170762239729009, 'lambda_l1': 0, 'objective': 'regression', 'learning_rate': 0.05, 'num_boost_round': 43, 'seed': 1234, 'metric': 'rmse'}\n",
      "Training until validation scores don't improve for 50 rounds.\n",
      "Did not meet early stopping. Best iteration is:\n",
      "[30]\tvalid's rmse: 0.297726\n",
      "0.29772606423133424\n",
      "Score for Model 4 fold 3: 0.297726 \n",
      "Model 4 fold 3 finished in 3 seconds.\n",
      "Model 4 fold 4\n",
      "3 {'num_leaves': 30, 'max_depth': 7, 'min_sum_hessian_in_leaf': 1, 'min_gain_to_split': 0.44290378736066505, 'feature_fraction': 0.34424539252359687, 'bagging_fraction': 0.9923777946926414, 'bagging_freq': 1, 'lambda_l2': 0.004170762239729009, 'lambda_l1': 0, 'objective': 'regression', 'learning_rate': 0.05, 'num_boost_round': 43, 'seed': 1234, 'metric': 'rmse'}\n",
      "Training until validation scores don't improve for 50 rounds.\n",
      "Did not meet early stopping. Best iteration is:\n",
      "[28]\tvalid's rmse: 0.31873\n",
      "0.3187297598136293\n",
      "Score for Model 4 fold 4: 0.318730 \n",
      "Model 4 fold 4 finished in 3 seconds.\n",
      "Model 4 fold 5\n",
      "4 {'num_leaves': 30, 'max_depth': 7, 'min_sum_hessian_in_leaf': 1, 'min_gain_to_split': 0.44290378736066505, 'feature_fraction': 0.34424539252359687, 'bagging_fraction': 0.9923777946926414, 'bagging_freq': 1, 'lambda_l2': 0.004170762239729009, 'lambda_l1': 0, 'objective': 'regression', 'learning_rate': 0.05, 'num_boost_round': 43, 'seed': 1234, 'metric': 'rmse'}\n",
      "Training until validation scores don't improve for 50 rounds.\n",
      "Did not meet early stopping. Best iteration is:\n",
      "[43]\tvalid's rmse: 0.304892\n",
      "0.3048918695666344\n",
      "Score for Model 4 fold 5: 0.304892 \n",
      "Model 4 fold 5 finished in 3 seconds.\n",
      "Score for model 4 is 0.309948\n",
      "Stacking model 5 {'num_leaves': 30, 'max_depth': 30, 'min_sum_hessian_in_leaf': 0, 'min_gain_to_split': 0.02739651285401601, 'feature_fraction': 0.5248420272755033, 'bagging_fraction': 0.9510447498502301, 'bagging_freq': 1, 'lambda_l2': 0.1654935599240942, 'lambda_l1': 0, 'objective': 'regression', 'learning_rate': 0.05, 'num_boost_round': 43, 'seed': 1234, 'metric': 'rmse'}\n",
      "Model 5 fold 1\n",
      "0 {'num_leaves': 30, 'max_depth': 30, 'min_sum_hessian_in_leaf': 0, 'min_gain_to_split': 0.02739651285401601, 'feature_fraction': 0.5248420272755033, 'bagging_fraction': 0.9510447498502301, 'bagging_freq': 1, 'lambda_l2': 0.1654935599240942, 'lambda_l1': 0, 'objective': 'regression', 'learning_rate': 0.05, 'num_boost_round': 43, 'seed': 1234, 'metric': 'rmse'}\n",
      "Training until validation scores don't improve for 50 rounds.\n",
      "Did not meet early stopping. Best iteration is:\n",
      "[31]\tvalid's rmse: 0.287953\n",
      "0.2879525041713972\n",
      "Score for Model 5 fold 1: 0.287953 \n",
      "Model 5 fold 1 finished in 3 seconds.\n",
      "Model 5 fold 2\n",
      "1 {'num_leaves': 30, 'max_depth': 30, 'min_sum_hessian_in_leaf': 0, 'min_gain_to_split': 0.02739651285401601, 'feature_fraction': 0.5248420272755033, 'bagging_fraction': 0.9510447498502301, 'bagging_freq': 1, 'lambda_l2': 0.1654935599240942, 'lambda_l1': 0, 'objective': 'regression', 'learning_rate': 0.05, 'num_boost_round': 43, 'seed': 1234, 'metric': 'rmse'}\n",
      "Training until validation scores don't improve for 50 rounds.\n",
      "Did not meet early stopping. Best iteration is:\n",
      "[25]\tvalid's rmse: 0.341525\n",
      "0.34152536224587926\n",
      "Score for Model 5 fold 2: 0.341525 \n",
      "Model 5 fold 2 finished in 3 seconds.\n",
      "Model 5 fold 3\n",
      "2 {'num_leaves': 30, 'max_depth': 30, 'min_sum_hessian_in_leaf': 0, 'min_gain_to_split': 0.02739651285401601, 'feature_fraction': 0.5248420272755033, 'bagging_fraction': 0.9510447498502301, 'bagging_freq': 1, 'lambda_l2': 0.1654935599240942, 'lambda_l1': 0, 'objective': 'regression', 'learning_rate': 0.05, 'num_boost_round': 43, 'seed': 1234, 'metric': 'rmse'}\n",
      "Training until validation scores don't improve for 50 rounds.\n",
      "Did not meet early stopping. Best iteration is:\n",
      "[25]\tvalid's rmse: 0.298649\n",
      "0.29864864032789834\n",
      "Score for Model 5 fold 3: 0.298649 \n",
      "Model 5 fold 3 finished in 3 seconds.\n",
      "Model 5 fold 4\n",
      "3 {'num_leaves': 30, 'max_depth': 30, 'min_sum_hessian_in_leaf': 0, 'min_gain_to_split': 0.02739651285401601, 'feature_fraction': 0.5248420272755033, 'bagging_fraction': 0.9510447498502301, 'bagging_freq': 1, 'lambda_l2': 0.1654935599240942, 'lambda_l1': 0, 'objective': 'regression', 'learning_rate': 0.05, 'num_boost_round': 43, 'seed': 1234, 'metric': 'rmse'}\n",
      "Training until validation scores don't improve for 50 rounds.\n",
      "Did not meet early stopping. Best iteration is:\n",
      "[26]\tvalid's rmse: 0.319357\n",
      "0.31935686069592645\n",
      "Score for Model 5 fold 4: 0.319357 \n",
      "Model 5 fold 4 finished in 3 seconds.\n",
      "Model 5 fold 5\n",
      "4 {'num_leaves': 30, 'max_depth': 30, 'min_sum_hessian_in_leaf': 0, 'min_gain_to_split': 0.02739651285401601, 'feature_fraction': 0.5248420272755033, 'bagging_fraction': 0.9510447498502301, 'bagging_freq': 1, 'lambda_l2': 0.1654935599240942, 'lambda_l1': 0, 'objective': 'regression', 'learning_rate': 0.05, 'num_boost_round': 43, 'seed': 1234, 'metric': 'rmse'}\n",
      "Training until validation scores don't improve for 50 rounds.\n",
      "Did not meet early stopping. Best iteration is:\n",
      "[22]\tvalid's rmse: 0.306693\n",
      "0.30669342231600544\n",
      "Score for Model 5 fold 5: 0.306693 \n",
      "Model 5 fold 5 finished in 3 seconds.\n",
      "Score for model 5 is 0.310835\n",
      "Stacking model 6 {'learning_rate': 0.05, 'metric': 'rmse', 'bagging_freq': 1, 'seed': 1234, 'objective': 'regression', 'num_leaves': 3, 'max_depth': 3, 'min_gain_to_split': 1, 'feature_fraction': 0.7, 'bagging_fraction': 1, 'min_sum_hessian_in_leaf': 100, 'lambda_l2': 0.1, 'lambda_l1': 0.01}\n",
      "Model 6 fold 1\n"
     ]
    },
    {
     "name": "stdout",
     "output_type": "stream",
     "text": [
      "0 {'learning_rate': 0.05, 'metric': 'rmse', 'bagging_freq': 1, 'seed': 1234, 'objective': 'regression', 'num_leaves': 3, 'max_depth': 3, 'min_gain_to_split': 1, 'feature_fraction': 0.7, 'bagging_fraction': 1, 'min_sum_hessian_in_leaf': 100, 'lambda_l2': 0.1, 'lambda_l1': 0.01}\n",
      "Training until validation scores don't improve for 50 rounds.\n",
      "Early stopping, best iteration is:\n",
      "[132]\tvalid's rmse: 0.287548\n",
      "0.2875478019650146\n",
      "Score for Model 6 fold 1: 0.287548 \n",
      "Model 6 fold 1 finished in 5 seconds.\n",
      "Model 6 fold 2\n",
      "1 {'learning_rate': 0.05, 'metric': 'rmse', 'bagging_freq': 1, 'seed': 1234, 'objective': 'regression', 'num_leaves': 3, 'max_depth': 3, 'min_gain_to_split': 1, 'feature_fraction': 0.7, 'bagging_fraction': 1, 'min_sum_hessian_in_leaf': 100, 'lambda_l2': 0.1, 'lambda_l1': 0.01}\n",
      "Training until validation scores don't improve for 50 rounds.\n",
      "Early stopping, best iteration is:\n",
      "[138]\tvalid's rmse: 0.341699\n",
      "0.341698894951824\n",
      "Score for Model 6 fold 2: 0.341699 \n",
      "Model 6 fold 2 finished in 5 seconds.\n",
      "Model 6 fold 3\n",
      "2 {'learning_rate': 0.05, 'metric': 'rmse', 'bagging_freq': 1, 'seed': 1234, 'objective': 'regression', 'num_leaves': 3, 'max_depth': 3, 'min_gain_to_split': 1, 'feature_fraction': 0.7, 'bagging_fraction': 1, 'min_sum_hessian_in_leaf': 100, 'lambda_l2': 0.1, 'lambda_l1': 0.01}\n",
      "Training until validation scores don't improve for 50 rounds.\n",
      "Early stopping, best iteration is:\n",
      "[131]\tvalid's rmse: 0.297712\n",
      "0.2977117504638707\n",
      "Score for Model 6 fold 3: 0.297712 \n",
      "Model 6 fold 3 finished in 5 seconds.\n",
      "Model 6 fold 4\n",
      "3 {'learning_rate': 0.05, 'metric': 'rmse', 'bagging_freq': 1, 'seed': 1234, 'objective': 'regression', 'num_leaves': 3, 'max_depth': 3, 'min_gain_to_split': 1, 'feature_fraction': 0.7, 'bagging_fraction': 1, 'min_sum_hessian_in_leaf': 100, 'lambda_l2': 0.1, 'lambda_l1': 0.01}\n",
      "Training until validation scores don't improve for 50 rounds.\n",
      "Early stopping, best iteration is:\n",
      "[202]\tvalid's rmse: 0.317843\n",
      "0.31784302299968886\n",
      "Score for Model 6 fold 4: 0.317843 \n",
      "Model 6 fold 4 finished in 6 seconds.\n",
      "Model 6 fold 5\n",
      "4 {'learning_rate': 0.05, 'metric': 'rmse', 'bagging_freq': 1, 'seed': 1234, 'objective': 'regression', 'num_leaves': 3, 'max_depth': 3, 'min_gain_to_split': 1, 'feature_fraction': 0.7, 'bagging_fraction': 1, 'min_sum_hessian_in_leaf': 100, 'lambda_l2': 0.1, 'lambda_l1': 0.01}\n",
      "Training until validation scores don't improve for 50 rounds.\n",
      "Early stopping, best iteration is:\n",
      "[47]\tvalid's rmse: 0.306501\n",
      "0.3065005606836925\n",
      "Score for Model 6 fold 5: 0.306501 \n",
      "Model 6 fold 5 finished in 4 seconds.\n",
      "Score for model 6 is 0.310260\n"
     ]
    }
   ],
   "source": [
    "train_blend_x_lgb, test_blend_x_lgb, blend_scores_lgb = \\\n",
    "        lgb_rgr_stack(lgb_params, train_x, train_y, test_x, 5, early_stopping_rounds=50, train_y_dummy=train_y_dummy)\n"
   ]
  },
  {
   "cell_type": "code",
   "execution_count": 37,
   "metadata": {},
   "outputs": [
    {
     "data": {
      "text/plain": [
       "0.3104139394569992"
      ]
     },
     "execution_count": 37,
     "metadata": {},
     "output_type": "execute_result"
    }
   ],
   "source": [
    "np.sqrt(mean_squared_error(train_y,train_blend_x_lgb.mean(axis=1)))\n",
    "# 0.3182835364470343"
   ]
  },
  {
   "cell_type": "code",
   "execution_count": 38,
   "metadata": {},
   "outputs": [
    {
     "data": {
      "text/plain": [
       "[0.31095568380321276,\n",
       " 0.3109263751881964,\n",
       " 0.3110045420862678,\n",
       " 0.31049638085459175,\n",
       " 0.31138301920974054,\n",
       " 0.31081858782328925]"
      ]
     },
     "execution_count": 38,
     "metadata": {},
     "output_type": "execute_result"
    }
   ],
   "source": [
    "[np.sqrt(mean_squared_error(train_y,train_blend_x_lgb[:,n])) for n in range(6)]"
   ]
  },
  {
   "cell_type": "markdown",
   "metadata": {},
   "source": [
    "#### Level 2 stacking\n",
    "\n",
    "We will be using the predictions (Level 1 features) to train another model as Level 2 which will then be used to make the actual predictions."
   ]
  },
  {
   "cell_type": "code",
   "execution_count": 39,
   "metadata": {},
   "outputs": [],
   "source": [
    "# Stacke level 1 features\n",
    "train_blend_x = train_blend_x_lgb\n",
    "test_blend_x = test_blend_x_lgb"
   ]
  },
  {
   "cell_type": "code",
   "execution_count": 40,
   "metadata": {},
   "outputs": [],
   "source": [
    "from sklearn.metrics import make_scorer\n",
    "def my_rmse(y_true, y_preds):\n",
    "    return np.sqrt(mean_squared_error(y_true, y_preds))\n",
    "\n",
    "my_rmse_score = make_scorer(my_rmse, greater_is_better=False)"
   ]
  },
  {
   "cell_type": "code",
   "execution_count": 41,
   "metadata": {},
   "outputs": [],
   "source": [
    "from sklearn.linear_model import Ridge,ElasticNet, SGDRegressor\n",
    "from sklearn.neural_network import MLPRegressor\n",
    "from sklearn.model_selection import GridSearchCV\n",
    "def search_model(train_x, train_y, est, param_grid, n_jobs, cv, refit=False):\n",
    "##Grid Search for the best model\n",
    "    model = GridSearchCV(estimator  = est,\n",
    "                                     param_grid = param_grid,\n",
    "                                     scoring    = my_rmse_score,\n",
    "                                     verbose    = 10,\n",
    "                                     n_jobs  = n_jobs,\n",
    "                                     iid        = True,\n",
    "                                     refit    = refit,\n",
    "                                     cv      = cv)\n",
    "    # Fit Grid Search Model\n",
    "    model.fit(train_x, train_y)\n",
    "    print(\"Best score: %0.3f\" % model.best_score_)\n",
    "    print(\"Best parameters set:\", model.best_params_)\n",
    "    print(\"Scores:\", model.grid_scores_)\n",
    "    return model"
   ]
  },
  {
   "cell_type": "code",
   "execution_count": 42,
   "metadata": {},
   "outputs": [
    {
     "name": "stdout",
     "output_type": "stream",
     "text": [
      "Fitting 5 folds for each of 7 candidates, totalling 35 fits\n",
      "[CV] alpha=0.001 .....................................................\n",
      "[CV] .......... alpha=0.001, score=-0.31343913159595144, total=   0.0s\n",
      "[CV] alpha=0.001 .....................................................\n",
      "[CV] ............ alpha=0.001, score=-0.302767903378481, total=   0.0s\n",
      "[CV] alpha=0.001 .....................................................\n",
      "[CV] ........... alpha=0.001, score=-0.3125921766771382, total=   0.0s\n",
      "[CV] alpha=0.001 .....................................................\n"
     ]
    },
    {
     "name": "stderr",
     "output_type": "stream",
     "text": [
      "[Parallel(n_jobs=1)]: Done   1 out of   1 | elapsed:    0.0s remaining:    0.0s\n",
      "[Parallel(n_jobs=1)]: Done   2 out of   2 | elapsed:    0.0s remaining:    0.0s\n",
      "[Parallel(n_jobs=1)]: Done   3 out of   3 | elapsed:    0.1s remaining:    0.0s\n",
      "[Parallel(n_jobs=1)]: Done   4 out of   4 | elapsed:    0.2s remaining:    0.0s\n"
     ]
    },
    {
     "name": "stdout",
     "output_type": "stream",
     "text": [
      "[CV] .......... alpha=0.001, score=-0.31407253106667804, total=   0.0s\n",
      "[CV] alpha=0.001 .....................................................\n",
      "[CV] ............ alpha=0.001, score=-0.309437815377468, total=   0.0s\n",
      "[CV] alpha=0.01 ......................................................\n",
      "[CV] ............ alpha=0.01, score=-0.3134390677173769, total=   0.0s\n",
      "[CV] alpha=0.01 ......................................................\n"
     ]
    },
    {
     "name": "stderr",
     "output_type": "stream",
     "text": [
      "[Parallel(n_jobs=1)]: Done   5 out of   5 | elapsed:    0.2s remaining:    0.0s\n",
      "[Parallel(n_jobs=1)]: Done   6 out of   6 | elapsed:    0.3s remaining:    0.0s\n",
      "[Parallel(n_jobs=1)]: Done   7 out of   7 | elapsed:    0.4s remaining:    0.0s\n"
     ]
    },
    {
     "name": "stdout",
     "output_type": "stream",
     "text": [
      "[CV] ............ alpha=0.01, score=-0.3027678775910538, total=   0.0s\n",
      "[CV] alpha=0.01 ......................................................\n",
      "[CV] ............ alpha=0.01, score=-0.3125921527729613, total=   0.0s\n",
      "[CV] alpha=0.01 ......................................................\n",
      "[CV] ........... alpha=0.01, score=-0.31407247815051087, total=   0.0s\n",
      "[CV] alpha=0.01 ......................................................\n",
      "[CV] ............ alpha=0.01, score=-0.3094375943303658, total=   0.0s\n",
      "[CV] alpha=0.1 .......................................................\n"
     ]
    },
    {
     "name": "stderr",
     "output_type": "stream",
     "text": [
      "[Parallel(n_jobs=1)]: Done   8 out of   8 | elapsed:    0.5s remaining:    0.0s\n",
      "[Parallel(n_jobs=1)]: Done   9 out of   9 | elapsed:    0.5s remaining:    0.0s\n"
     ]
    },
    {
     "name": "stdout",
     "output_type": "stream",
     "text": [
      "[CV] ............. alpha=0.1, score=-0.3134384289958777, total=   0.0s\n",
      "[CV] alpha=0.1 .......................................................\n",
      "[CV] ............. alpha=0.1, score=-0.3027676211631676, total=   0.0s\n",
      "[CV] alpha=0.1 .......................................................\n",
      "[CV] ............ alpha=0.1, score=-0.31259191416532234, total=   0.0s\n",
      "[CV] alpha=0.1 .......................................................\n",
      "[CV] ............. alpha=0.1, score=-0.3140719516683518, total=   0.0s\n",
      "[CV] alpha=0.1 .......................................................\n",
      "[CV] ............ alpha=0.1, score=-0.30943539252694935, total=   0.0s\n",
      "[CV] alpha=1 .........................................................\n",
      "[CV] .............. alpha=1, score=-0.31343205020018705, total=   0.0s\n",
      "[CV] alpha=1 .........................................................\n",
      "[CV] ............... alpha=1, score=-0.3027651955725166, total=   0.0s\n",
      "[CV] alpha=1 .........................................................\n",
      "[CV] .............. alpha=1, score=-0.31258957107808394, total=   0.0s\n",
      "[CV] alpha=1 .........................................................\n",
      "[CV] ............... alpha=1, score=-0.3140669441329145, total=   0.0s\n",
      "[CV] alpha=1 .........................................................\n",
      "[CV] .............. alpha=1, score=-0.30941420784029733, total=   0.0s\n",
      "[CV] alpha=10 ........................................................\n",
      "[CV] ............. alpha=10, score=-0.31337044477913356, total=   0.0s\n",
      "[CV] alpha=10 ........................................................\n",
      "[CV] ............. alpha=10, score=-0.30275060791453984, total=   0.0s\n",
      "[CV] alpha=10 ........................................................\n",
      "[CV] .............. alpha=10, score=-0.3125700164579341, total=   0.0s\n",
      "[CV] alpha=10 ........................................................\n",
      "[CV] ............. alpha=10, score=-0.31403495925766767, total=   0.0s\n",
      "[CV] alpha=10 ........................................................\n",
      "[CV] ............. alpha=10, score=-0.30926184064830803, total=   0.0s\n",
      "[CV] alpha=30 ........................................................\n",
      "[CV] .............. alpha=30, score=-0.3132560160334791, total=   0.0s\n",
      "[CV] alpha=30 ........................................................\n",
      "[CV] ............. alpha=30, score=-0.30274467922063747, total=   0.0s\n",
      "[CV] alpha=30 ........................................................\n",
      "[CV] .............. alpha=30, score=-0.3125444936146735, total=   0.0s\n",
      "[CV] alpha=30 ........................................................\n",
      "[CV] .............. alpha=30, score=-0.3140144406566337, total=   0.0s\n",
      "[CV] alpha=30 ........................................................\n",
      "[CV] .............. alpha=30, score=-0.3090996792477448, total=   0.0s\n",
      "[CV] alpha=100 .......................................................\n",
      "[CV] ............. alpha=100, score=-0.3130378317999227, total=   0.0s\n",
      "[CV] alpha=100 .......................................................\n",
      "[CV] ............. alpha=100, score=-0.3027603417233336, total=   0.0s\n",
      "[CV] alpha=100 .......................................................\n",
      "[CV] ............ alpha=100, score=-0.31252435017742775, total=   0.0s\n",
      "[CV] alpha=100 .......................................................\n",
      "[CV] ............. alpha=100, score=-0.3140339255744616, total=   0.0s\n",
      "[CV] alpha=100 .......................................................\n",
      "[CV] ............. alpha=100, score=-0.3089330217639067, total=   0.0s\n",
      "Best score: -0.310\n",
      "Best parameters set: {'alpha': 100}\n",
      "Scores: [mean: -0.31046, std: 0.00416, params: {'alpha': 0.001}, mean: -0.31046, std: 0.00416, params: {'alpha': 0.01}, mean: -0.31046, std: 0.00416, params: {'alpha': 0.1}, mean: -0.31045, std: 0.00416, params: {'alpha': 1}, mean: -0.31040, std: 0.00416, params: {'alpha': 10}, mean: -0.31033, std: 0.00415, params: {'alpha': 30}, mean: -0.31026, std: 0.00413, params: {'alpha': 100}]\n",
      "best alpha: {'alpha': 100}\n"
     ]
    },
    {
     "name": "stderr",
     "output_type": "stream",
     "text": [
      "[Parallel(n_jobs=1)]: Done  35 out of  35 | elapsed:    2.2s finished\n",
      "C:\\Users\\cb7vm\\AppData\\Local\\Continuum\\anaconda3\\lib\\site-packages\\sklearn\\model_selection\\_search.py:761: DeprecationWarning: The grid_scores_ attribute was deprecated in version 0.18 in favor of the more elaborate cv_results_ attribute. The grid_scores_ attribute will not be available from 0.20\n",
      "  DeprecationWarning)\n"
     ]
    }
   ],
   "source": [
    "param_grid = {\n",
    "              \"alpha\":[0.001,0.01,0.1,1,10,30,100]\n",
    "              }\n",
    "model = search_model(train_blend_x\n",
    "                                         , train_y\n",
    "                                         , Ridge()\n",
    "                                         , param_grid\n",
    "                                         , n_jobs=1\n",
    "                                         , cv=skf.split(train_x, train_y_dummy)\n",
    "                                         , refit=True)   \n",
    "\n",
    "print (\"best alpha:\", model.best_params_)\n",
    "\n",
    "\n",
    "preds_ridge = np.expm1(model.predict(test_blend_x))\n",
    "\n",
    "sub = pd.DataFrame()\n",
    "sub['fullVisitorId'] = test_ids\n",
    "sub['revenue'] = preds_ridge\n",
    "sub.to_csv('../output/sub_stacking_ridge.csv', index=False)\n"
   ]
  },
  {
   "cell_type": "markdown",
   "metadata": {},
   "source": [
    "### Level 2 stacking II \n",
    "\n",
    "Stacking can also be done by with both level 1 predictions and original features."
   ]
  },
  {
   "cell_type": "code",
   "execution_count": 43,
   "metadata": {},
   "outputs": [
    {
     "name": "stdout",
     "output_type": "stream",
     "text": [
      "(361469, 4307) (361469, 4307)\n"
     ]
    }
   ],
   "source": [
    "train_blend_x = sparse.hstack([train_x, train_blend_x_lgb]).tocsr()\n",
    "test_blend_x = sparse.hstack([test_x, test_blend_x_lgb]).tocsr()\n",
    "\n",
    "print (train_blend_x.shape, train_blend_x.shape)"
   ]
  },
  {
   "cell_type": "code",
   "execution_count": 44,
   "metadata": {},
   "outputs": [
    {
     "name": "stdout",
     "output_type": "stream",
     "text": [
      ", best_score: 0.310908, best_iteration: 48\n"
     ]
    }
   ],
   "source": [
    "lgb_params = {'learning_rate': 0.05, 'metric': 'rmse',\n",
    "              'bagging_freq': 1, 'seed': 1234, 'objective': 'regression',\n",
    "              'num_leaves': 7, 'verbose': 1,\n",
    "              'max_depth': 5, 'min_gain_to_split': 0,\n",
    "              'feature_fraction': 0.1,\n",
    "              'bagging_fraction': 0.9,\n",
    "              'min_sum_hessian_in_leaf': 1,\n",
    "              'lambda_l2': 0, 'lambda_l1': 0\n",
    "              }\n",
    "\n",
    "\n",
    "lgb_cv = lgb.cv(lgb_params,\n",
    "                lgb.Dataset(train_blend_x,\n",
    "                            label=train_y\n",
    "                            ),\n",
    "                num_boost_round=100000,\n",
    "                nfold=kfolds,\n",
    "                folds=skf.split(train_blend_x, train_y_dummy),\n",
    "                early_stopping_rounds=50,\n",
    "                verbose_eval=500)\n",
    "\n",
    "best_lgb_score = min(lgb_cv['rmse-mean'])\n",
    "best_lgb_iteration = len(lgb_cv['rmse-mean'])\n",
    "print(', best_score: %f, best_iteration: %d' %\n",
    "      (best_lgb_score, best_lgb_iteration))\n",
    "\n",
    "\n",
    "# {'learning_rate': 0.05, 'metric': 'rmse', 'bagging_freq': 1, 'seed': 1234, 'objective': 'regression', 'num_leaves': 15, 'verbose': 1, 'max_depth': -1, 'min_gain_to_split': 0, 'feature_fraction': 0.5, 'bagging_fraction': 1, 'min_sum_hessian_in_leaf': 1, 'lambda_l2': 0, 'lambda_l1': 0}\n",
    "# , best_score: 0.314956, best_iteration: 31"
   ]
  },
  {
   "cell_type": "code",
   "execution_count": 45,
   "metadata": {},
   "outputs": [],
   "source": [
    "model = lgb.train(lgb_params,\n",
    "            lgb.Dataset(train_blend_x,\n",
    "                        label=train_y\n",
    "                        ),\n",
    "            num_boost_round=best_lgb_iteration)\n",
    "preds_lgb = np.expm1(model.predict(test_blend_x))\n",
    "\n",
    "sub = pd.DataFrame()\n",
    "sub['fullVisitorId'] = test_ids\n",
    "sub['revenue'] = preds_lgb\n",
    "sub.to_csv('../output/sub_stacking_lgb.csv', index=False)"
   ]
  },
  {
   "cell_type": "markdown",
   "metadata": {},
   "source": [
    "#### Averaging level 2 predictions\n",
    "\n",
    "We can also create a quick ensemble by averaging level 2 predictions:"
   ]
  },
  {
   "cell_type": "code",
   "execution_count": 48,
   "metadata": {},
   "outputs": [],
   "source": [
    "preds_l2 = preds_ridge*0.5 + preds_lgb*0.5\n",
    "sub = pd.DataFrame()\n",
    "sub['fullVisitorId'] = test_ids\n",
    "sub['PredictedLogRevenue'] = preds_l2\n",
    "sub.to_csv('../output/v2_sub_stacking_l2.csv', index=False)\n"
   ]
  }
 ],
 "metadata": {
  "kernelspec": {
   "display_name": "Python 3",
   "language": "python",
   "name": "python3"
  },
  "language_info": {
   "codemirror_mode": {
    "name": "ipython",
    "version": 3
   },
   "file_extension": ".py",
   "mimetype": "text/x-python",
   "name": "python",
   "nbconvert_exporter": "python",
   "pygments_lexer": "ipython3",
   "version": "3.7.1"
  },
  "toc": {
   "base_numbering": 1,
   "nav_menu": {},
   "number_sections": true,
   "sideBar": true,
   "skip_h1_title": false,
   "title_cell": "Table of Contents",
   "title_sidebar": "Contents",
   "toc_cell": false,
   "toc_position": {
    "height": "calc(100% - 180px)",
    "left": "10px",
    "top": "150px",
    "width": "384px"
   },
   "toc_section_display": true,
   "toc_window_display": true
  },
  "varInspector": {
   "cols": {
    "lenName": 16,
    "lenType": 16,
    "lenVar": 40
   },
   "kernels_config": {
    "python": {
     "delete_cmd_postfix": "",
     "delete_cmd_prefix": "del ",
     "library": "var_list.py",
     "varRefreshCmd": "print(var_dic_list())"
    },
    "r": {
     "delete_cmd_postfix": ") ",
     "delete_cmd_prefix": "rm(",
     "library": "var_list.r",
     "varRefreshCmd": "cat(var_dic_list()) "
    }
   },
   "position": {
    "height": "754px",
    "left": "2075px",
    "right": "20px",
    "top": "114px",
    "width": "350px"
   },
   "types_to_exclude": [
    "module",
    "function",
    "builtin_function_or_method",
    "instance",
    "_Feature"
   ],
   "window_display": true
  }
 },
 "nbformat": 4,
 "nbformat_minor": 2
}
